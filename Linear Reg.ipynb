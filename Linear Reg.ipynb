{
 "cells": [
  {
   "cell_type": "code",
   "execution_count": 2,
   "metadata": {},
   "outputs": [],
   "source": [
    "import pandas as pd \n",
    "import numpy as np\n",
    "import os "
   ]
  },
  {
   "cell_type": "code",
   "execution_count": 2,
   "metadata": {},
   "outputs": [],
   "source": [
    "os.chdir(\"C:\\\\Users\\\\Admin\\\\Desktop\\\\Training\\\\ml\")"
   ]
  },
  {
   "cell_type": "code",
   "execution_count": 3,
   "metadata": {},
   "outputs": [],
   "source": [
    "data=pd.read_csv(\"Car.csv\")"
   ]
  },
  {
   "cell_type": "code",
   "execution_count": 4,
   "metadata": {},
   "outputs": [
    {
     "data": {
      "text/html": [
       "<div>\n",
       "<style scoped>\n",
       "    .dataframe tbody tr th:only-of-type {\n",
       "        vertical-align: middle;\n",
       "    }\n",
       "\n",
       "    .dataframe tbody tr th {\n",
       "        vertical-align: top;\n",
       "    }\n",
       "\n",
       "    .dataframe thead th {\n",
       "        text-align: right;\n",
       "    }\n",
       "</style>\n",
       "<table border=\"1\" class=\"dataframe\">\n",
       "  <thead>\n",
       "    <tr style=\"text-align: right;\">\n",
       "      <th></th>\n",
       "      <th>Manufacturer</th>\n",
       "      <th>Model</th>\n",
       "      <th>Sales_in_thousands</th>\n",
       "      <th>4_year_resale_value</th>\n",
       "      <th>Vehicle_type</th>\n",
       "      <th>Price_in_thousands</th>\n",
       "      <th>Engine_size</th>\n",
       "      <th>Horsepower</th>\n",
       "      <th>Wheelbase</th>\n",
       "      <th>Width</th>\n",
       "      <th>Length</th>\n",
       "      <th>Curb_weight</th>\n",
       "      <th>Fuel_capacity</th>\n",
       "      <th>Fuel_efficiency</th>\n",
       "      <th>Latest_Launch</th>\n",
       "    </tr>\n",
       "  </thead>\n",
       "  <tbody>\n",
       "    <tr>\n",
       "      <td>0</td>\n",
       "      <td>Acura</td>\n",
       "      <td>Integra</td>\n",
       "      <td>16.919</td>\n",
       "      <td>16.360</td>\n",
       "      <td>Passenger</td>\n",
       "      <td>21.50</td>\n",
       "      <td>1.8</td>\n",
       "      <td>140.0</td>\n",
       "      <td>101.2</td>\n",
       "      <td>67.3</td>\n",
       "      <td>172.4</td>\n",
       "      <td>2.639</td>\n",
       "      <td>13.2</td>\n",
       "      <td>28.0</td>\n",
       "      <td>02-02-2012</td>\n",
       "    </tr>\n",
       "    <tr>\n",
       "      <td>1</td>\n",
       "      <td>Acura</td>\n",
       "      <td>TL</td>\n",
       "      <td>39.384</td>\n",
       "      <td>19.875</td>\n",
       "      <td>Passenger</td>\n",
       "      <td>28.40</td>\n",
       "      <td>3.2</td>\n",
       "      <td>225.0</td>\n",
       "      <td>108.1</td>\n",
       "      <td>70.3</td>\n",
       "      <td>192.9</td>\n",
       "      <td>3.517</td>\n",
       "      <td>17.2</td>\n",
       "      <td>25.0</td>\n",
       "      <td>03-06-2011</td>\n",
       "    </tr>\n",
       "    <tr>\n",
       "      <td>2</td>\n",
       "      <td>Acura</td>\n",
       "      <td>CL</td>\n",
       "      <td>14.114</td>\n",
       "      <td>18.225</td>\n",
       "      <td>Passenger</td>\n",
       "      <td>NaN</td>\n",
       "      <td>3.2</td>\n",
       "      <td>225.0</td>\n",
       "      <td>106.9</td>\n",
       "      <td>70.6</td>\n",
       "      <td>192.0</td>\n",
       "      <td>3.470</td>\n",
       "      <td>17.2</td>\n",
       "      <td>26.0</td>\n",
       "      <td>04-01-2012</td>\n",
       "    </tr>\n",
       "    <tr>\n",
       "      <td>3</td>\n",
       "      <td>Acura</td>\n",
       "      <td>RL</td>\n",
       "      <td>8.588</td>\n",
       "      <td>29.725</td>\n",
       "      <td>Passenger</td>\n",
       "      <td>42.00</td>\n",
       "      <td>3.5</td>\n",
       "      <td>210.0</td>\n",
       "      <td>114.6</td>\n",
       "      <td>71.4</td>\n",
       "      <td>196.6</td>\n",
       "      <td>3.850</td>\n",
       "      <td>18.0</td>\n",
       "      <td>22.0</td>\n",
       "      <td>10-03-2011</td>\n",
       "    </tr>\n",
       "    <tr>\n",
       "      <td>4</td>\n",
       "      <td>Audi</td>\n",
       "      <td>A4</td>\n",
       "      <td>20.397</td>\n",
       "      <td>22.255</td>\n",
       "      <td>Passenger</td>\n",
       "      <td>23.99</td>\n",
       "      <td>1.8</td>\n",
       "      <td>150.0</td>\n",
       "      <td>102.6</td>\n",
       "      <td>68.2</td>\n",
       "      <td>178.0</td>\n",
       "      <td>2.998</td>\n",
       "      <td>16.4</td>\n",
       "      <td>27.0</td>\n",
       "      <td>08-10-2011</td>\n",
       "    </tr>\n",
       "  </tbody>\n",
       "</table>\n",
       "</div>"
      ],
      "text/plain": [
       "  Manufacturer    Model  Sales_in_thousands  4_year_resale_value Vehicle_type  \\\n",
       "0        Acura  Integra              16.919               16.360    Passenger   \n",
       "1        Acura       TL              39.384               19.875    Passenger   \n",
       "2        Acura       CL              14.114               18.225    Passenger   \n",
       "3        Acura       RL               8.588               29.725    Passenger   \n",
       "4         Audi       A4              20.397               22.255    Passenger   \n",
       "\n",
       "   Price_in_thousands  Engine_size  Horsepower  Wheelbase  Width  Length  \\\n",
       "0               21.50          1.8       140.0      101.2   67.3   172.4   \n",
       "1               28.40          3.2       225.0      108.1   70.3   192.9   \n",
       "2                 NaN          3.2       225.0      106.9   70.6   192.0   \n",
       "3               42.00          3.5       210.0      114.6   71.4   196.6   \n",
       "4               23.99          1.8       150.0      102.6   68.2   178.0   \n",
       "\n",
       "   Curb_weight  Fuel_capacity  Fuel_efficiency Latest_Launch  \n",
       "0        2.639           13.2             28.0    02-02-2012  \n",
       "1        3.517           17.2             25.0    03-06-2011  \n",
       "2        3.470           17.2             26.0    04-01-2012  \n",
       "3        3.850           18.0             22.0    10-03-2011  \n",
       "4        2.998           16.4             27.0    08-10-2011  "
      ]
     },
     "execution_count": 4,
     "metadata": {},
     "output_type": "execute_result"
    }
   ],
   "source": [
    "data.head()"
   ]
  },
  {
   "cell_type": "code",
   "execution_count": 5,
   "metadata": {},
   "outputs": [
    {
     "name": "stdout",
     "output_type": "stream",
     "text": [
      "<class 'pandas.core.frame.DataFrame'>\n",
      "RangeIndex: 157 entries, 0 to 156\n",
      "Data columns (total 15 columns):\n",
      "Manufacturer           157 non-null object\n",
      "Model                  157 non-null object\n",
      "Sales_in_thousands     157 non-null float64\n",
      "4_year_resale_value    121 non-null float64\n",
      "Vehicle_type           157 non-null object\n",
      "Price_in_thousands     155 non-null float64\n",
      "Engine_size            156 non-null float64\n",
      "Horsepower             156 non-null float64\n",
      "Wheelbase              156 non-null float64\n",
      "Width                  156 non-null float64\n",
      "Length                 156 non-null float64\n",
      "Curb_weight            155 non-null float64\n",
      "Fuel_capacity          156 non-null float64\n",
      "Fuel_efficiency        154 non-null float64\n",
      "Latest_Launch          157 non-null object\n",
      "dtypes: float64(11), object(4)\n",
      "memory usage: 18.5+ KB\n"
     ]
    }
   ],
   "source": [
    "data.info()"
   ]
  },
  {
   "cell_type": "code",
   "execution_count": 6,
   "metadata": {},
   "outputs": [
    {
     "data": {
      "text/plain": [
       "(157, 15)"
      ]
     },
     "execution_count": 6,
     "metadata": {},
     "output_type": "execute_result"
    }
   ],
   "source": [
    "data.shape"
   ]
  },
  {
   "cell_type": "code",
   "execution_count": 7,
   "metadata": {},
   "outputs": [
    {
     "data": {
      "text/html": [
       "<div>\n",
       "<style scoped>\n",
       "    .dataframe tbody tr th:only-of-type {\n",
       "        vertical-align: middle;\n",
       "    }\n",
       "\n",
       "    .dataframe tbody tr th {\n",
       "        vertical-align: top;\n",
       "    }\n",
       "\n",
       "    .dataframe thead th {\n",
       "        text-align: right;\n",
       "    }\n",
       "</style>\n",
       "<table border=\"1\" class=\"dataframe\">\n",
       "  <thead>\n",
       "    <tr style=\"text-align: right;\">\n",
       "      <th></th>\n",
       "      <th>count</th>\n",
       "      <th>mean</th>\n",
       "      <th>std</th>\n",
       "      <th>min</th>\n",
       "      <th>25%</th>\n",
       "      <th>50%</th>\n",
       "      <th>75%</th>\n",
       "      <th>max</th>\n",
       "    </tr>\n",
       "  </thead>\n",
       "  <tbody>\n",
       "    <tr>\n",
       "      <td>Sales_in_thousands</td>\n",
       "      <td>157.0</td>\n",
       "      <td>52.998076</td>\n",
       "      <td>68.029422</td>\n",
       "      <td>0.110</td>\n",
       "      <td>14.1140</td>\n",
       "      <td>29.450</td>\n",
       "      <td>67.9560</td>\n",
       "      <td>540.561</td>\n",
       "    </tr>\n",
       "    <tr>\n",
       "      <td>4_year_resale_value</td>\n",
       "      <td>121.0</td>\n",
       "      <td>18.072975</td>\n",
       "      <td>11.453384</td>\n",
       "      <td>5.160</td>\n",
       "      <td>11.2600</td>\n",
       "      <td>14.180</td>\n",
       "      <td>19.8750</td>\n",
       "      <td>67.550</td>\n",
       "    </tr>\n",
       "    <tr>\n",
       "      <td>Price_in_thousands</td>\n",
       "      <td>155.0</td>\n",
       "      <td>27.390755</td>\n",
       "      <td>14.351653</td>\n",
       "      <td>9.235</td>\n",
       "      <td>18.0175</td>\n",
       "      <td>22.799</td>\n",
       "      <td>31.9475</td>\n",
       "      <td>85.500</td>\n",
       "    </tr>\n",
       "    <tr>\n",
       "      <td>Engine_size</td>\n",
       "      <td>156.0</td>\n",
       "      <td>3.060897</td>\n",
       "      <td>1.044653</td>\n",
       "      <td>1.000</td>\n",
       "      <td>2.3000</td>\n",
       "      <td>3.000</td>\n",
       "      <td>3.5750</td>\n",
       "      <td>8.000</td>\n",
       "    </tr>\n",
       "    <tr>\n",
       "      <td>Horsepower</td>\n",
       "      <td>156.0</td>\n",
       "      <td>185.948718</td>\n",
       "      <td>56.700321</td>\n",
       "      <td>55.000</td>\n",
       "      <td>149.5000</td>\n",
       "      <td>177.500</td>\n",
       "      <td>215.0000</td>\n",
       "      <td>450.000</td>\n",
       "    </tr>\n",
       "    <tr>\n",
       "      <td>Wheelbase</td>\n",
       "      <td>156.0</td>\n",
       "      <td>107.487179</td>\n",
       "      <td>7.641303</td>\n",
       "      <td>92.600</td>\n",
       "      <td>103.0000</td>\n",
       "      <td>107.000</td>\n",
       "      <td>112.2000</td>\n",
       "      <td>138.700</td>\n",
       "    </tr>\n",
       "    <tr>\n",
       "      <td>Width</td>\n",
       "      <td>156.0</td>\n",
       "      <td>71.150000</td>\n",
       "      <td>3.451872</td>\n",
       "      <td>62.600</td>\n",
       "      <td>68.4000</td>\n",
       "      <td>70.550</td>\n",
       "      <td>73.4250</td>\n",
       "      <td>79.900</td>\n",
       "    </tr>\n",
       "    <tr>\n",
       "      <td>Length</td>\n",
       "      <td>156.0</td>\n",
       "      <td>187.343590</td>\n",
       "      <td>13.431754</td>\n",
       "      <td>149.400</td>\n",
       "      <td>177.5750</td>\n",
       "      <td>187.900</td>\n",
       "      <td>196.1250</td>\n",
       "      <td>224.500</td>\n",
       "    </tr>\n",
       "    <tr>\n",
       "      <td>Curb_weight</td>\n",
       "      <td>155.0</td>\n",
       "      <td>3.378026</td>\n",
       "      <td>0.630502</td>\n",
       "      <td>1.895</td>\n",
       "      <td>2.9710</td>\n",
       "      <td>3.342</td>\n",
       "      <td>3.7995</td>\n",
       "      <td>5.572</td>\n",
       "    </tr>\n",
       "    <tr>\n",
       "      <td>Fuel_capacity</td>\n",
       "      <td>156.0</td>\n",
       "      <td>17.951923</td>\n",
       "      <td>3.887921</td>\n",
       "      <td>10.300</td>\n",
       "      <td>15.8000</td>\n",
       "      <td>17.200</td>\n",
       "      <td>19.5750</td>\n",
       "      <td>32.000</td>\n",
       "    </tr>\n",
       "    <tr>\n",
       "      <td>Fuel_efficiency</td>\n",
       "      <td>154.0</td>\n",
       "      <td>23.844156</td>\n",
       "      <td>4.282706</td>\n",
       "      <td>15.000</td>\n",
       "      <td>21.0000</td>\n",
       "      <td>24.000</td>\n",
       "      <td>26.0000</td>\n",
       "      <td>45.000</td>\n",
       "    </tr>\n",
       "  </tbody>\n",
       "</table>\n",
       "</div>"
      ],
      "text/plain": [
       "                     count        mean        std      min       25%      50%  \\\n",
       "Sales_in_thousands   157.0   52.998076  68.029422    0.110   14.1140   29.450   \n",
       "4_year_resale_value  121.0   18.072975  11.453384    5.160   11.2600   14.180   \n",
       "Price_in_thousands   155.0   27.390755  14.351653    9.235   18.0175   22.799   \n",
       "Engine_size          156.0    3.060897   1.044653    1.000    2.3000    3.000   \n",
       "Horsepower           156.0  185.948718  56.700321   55.000  149.5000  177.500   \n",
       "Wheelbase            156.0  107.487179   7.641303   92.600  103.0000  107.000   \n",
       "Width                156.0   71.150000   3.451872   62.600   68.4000   70.550   \n",
       "Length               156.0  187.343590  13.431754  149.400  177.5750  187.900   \n",
       "Curb_weight          155.0    3.378026   0.630502    1.895    2.9710    3.342   \n",
       "Fuel_capacity        156.0   17.951923   3.887921   10.300   15.8000   17.200   \n",
       "Fuel_efficiency      154.0   23.844156   4.282706   15.000   21.0000   24.000   \n",
       "\n",
       "                          75%      max  \n",
       "Sales_in_thousands    67.9560  540.561  \n",
       "4_year_resale_value   19.8750   67.550  \n",
       "Price_in_thousands    31.9475   85.500  \n",
       "Engine_size            3.5750    8.000  \n",
       "Horsepower           215.0000  450.000  \n",
       "Wheelbase            112.2000  138.700  \n",
       "Width                 73.4250   79.900  \n",
       "Length               196.1250  224.500  \n",
       "Curb_weight            3.7995    5.572  \n",
       "Fuel_capacity         19.5750   32.000  \n",
       "Fuel_efficiency       26.0000   45.000  "
      ]
     },
     "execution_count": 7,
     "metadata": {},
     "output_type": "execute_result"
    }
   ],
   "source": [
    "data.describe().T"
   ]
  },
  {
   "cell_type": "code",
   "execution_count": 8,
   "metadata": {},
   "outputs": [
    {
     "data": {
      "text/html": [
       "<div>\n",
       "<style scoped>\n",
       "    .dataframe tbody tr th:only-of-type {\n",
       "        vertical-align: middle;\n",
       "    }\n",
       "\n",
       "    .dataframe tbody tr th {\n",
       "        vertical-align: top;\n",
       "    }\n",
       "\n",
       "    .dataframe thead th {\n",
       "        text-align: right;\n",
       "    }\n",
       "</style>\n",
       "<table border=\"1\" class=\"dataframe\">\n",
       "  <thead>\n",
       "    <tr style=\"text-align: right;\">\n",
       "      <th></th>\n",
       "      <th>Manufacturer</th>\n",
       "      <th>Model</th>\n",
       "      <th>Vehicle_type</th>\n",
       "      <th>Latest_Launch</th>\n",
       "    </tr>\n",
       "  </thead>\n",
       "  <tbody>\n",
       "    <tr>\n",
       "      <td>count</td>\n",
       "      <td>157</td>\n",
       "      <td>157</td>\n",
       "      <td>157</td>\n",
       "      <td>157</td>\n",
       "    </tr>\n",
       "    <tr>\n",
       "      <td>unique</td>\n",
       "      <td>30</td>\n",
       "      <td>156</td>\n",
       "      <td>2</td>\n",
       "      <td>130</td>\n",
       "    </tr>\n",
       "    <tr>\n",
       "      <td>top</td>\n",
       "      <td>Dodge</td>\n",
       "      <td>Neon</td>\n",
       "      <td>Passenger</td>\n",
       "      <td>29-01-2012</td>\n",
       "    </tr>\n",
       "    <tr>\n",
       "      <td>freq</td>\n",
       "      <td>11</td>\n",
       "      <td>2</td>\n",
       "      <td>116</td>\n",
       "      <td>2</td>\n",
       "    </tr>\n",
       "  </tbody>\n",
       "</table>\n",
       "</div>"
      ],
      "text/plain": [
       "       Manufacturer Model Vehicle_type Latest_Launch\n",
       "count           157   157          157           157\n",
       "unique           30   156            2           130\n",
       "top           Dodge  Neon    Passenger    29-01-2012\n",
       "freq             11     2          116             2"
      ]
     },
     "execution_count": 8,
     "metadata": {},
     "output_type": "execute_result"
    }
   ],
   "source": [
    "data.describe(include=\"object\")"
   ]
  },
  {
   "cell_type": "code",
   "execution_count": 9,
   "metadata": {},
   "outputs": [],
   "source": [
    "import matplotlib.pyplot as plt"
   ]
  },
  {
   "cell_type": "code",
   "execution_count": 10,
   "metadata": {},
   "outputs": [
    {
     "data": {
      "image/png": "[encoded data removed]",
      "text/plain": [
       "<Figure size 432x288 with 1 Axes>"
      ]
     },
     "metadata": {
      "needs_background": "light"
     },
     "output_type": "display_data"
    }
   ],
   "source": [
    "plt.hist(data[\"Width\"], bins=[60,70,80,90])\n",
    "plt.show()"
   ]
  },
  {
   "cell_type": "code",
   "execution_count": 11,
   "metadata": {},
   "outputs": [
    {
     "data": {
      "image/png": "[encoded data removed]",
      "text/plain": [
       "<Figure size 432x288 with 1 Axes>"
      ]
     },
     "metadata": {
      "needs_background": "light"
     },
     "output_type": "display_data"
    }
   ],
   "source": [
    "plt.hist(data[\"Sales_in_thousands\"])\n",
    "plt.show()"
   ]
  },
  {
   "cell_type": "markdown",
   "metadata": {},
   "source": [
    "### Bivariate analysis "
   ]
  },
  {
   "cell_type": "code",
   "execution_count": 12,
   "metadata": {},
   "outputs": [
    {
     "data": {
      "image/png": "[encoded data removed]",
      "text/plain": [
       "<Figure size 432x288 with 1 Axes>"
      ]
     },
     "metadata": {
      "needs_background": "light"
     },
     "output_type": "display_data"
    }
   ],
   "source": [
    "plt.scatter(data[\"Price_in_thousands\"],data[\"Sales_in_thousands\"] )\n",
    "plt.xlabel(\"price\")\n",
    "plt.ylabel(\"Sales\")\n",
    "plt.show()"
   ]
  },
  {
   "cell_type": "code",
   "execution_count": 13,
   "metadata": {},
   "outputs": [
    {
     "data": {
      "image/png": "[encoded data removed]",
      "text/plain": [
       "<Figure size 432x288 with 1 Axes>"
      ]
     },
     "metadata": {
      "needs_background": "light"
     },
     "output_type": "display_data"
    }
   ],
   "source": [
    "plt.scatter(data[\"Price_in_thousands\"],data[\"4_year_resale_value\"] )\n",
    "plt.xlabel(\"price\")\n",
    "plt.ylabel(\"4_year_resale_value\")\n",
    "plt.show()"
   ]
  },
  {
   "cell_type": "code",
   "execution_count": 49,
   "metadata": {},
   "outputs": [],
   "source": [
    "corr=data.corr()\n",
    "corr.to_csv(\"corr.csv\")"
   ]
  },
  {
   "cell_type": "code",
   "execution_count": 15,
   "metadata": {},
   "outputs": [],
   "source": [
    "data1=data.drop(columns=[\"Manufacturer\", \"Model\", \"Latest_Launch\"])"
   ]
  },
  {
   "cell_type": "code",
   "execution_count": 16,
   "metadata": {},
   "outputs": [
    {
     "data": {
      "text/plain": [
       "12"
      ]
     },
     "execution_count": 16,
     "metadata": {},
     "output_type": "execute_result"
    }
   ],
   "source": [
    "len(data1.columns)"
   ]
  },
  {
   "cell_type": "code",
   "execution_count": 17,
   "metadata": {},
   "outputs": [
    {
     "data": {
      "text/plain": [
       "Index(['Sales_in_thousands', '4_year_resale_value', 'Vehicle_type',\n",
       "       'Price_in_thousands', 'Engine_size', 'Horsepower', 'Wheelbase', 'Width',\n",
       "       'Length', 'Curb_weight', 'Fuel_capacity', 'Fuel_efficiency'],\n",
       "      dtype='object')"
      ]
     },
     "execution_count": 17,
     "metadata": {},
     "output_type": "execute_result"
    }
   ],
   "source": [
    "data1.columns"
   ]
  },
  {
   "cell_type": "code",
   "execution_count": 18,
   "metadata": {},
   "outputs": [
    {
     "name": "stdout",
     "output_type": "stream",
     "text": [
      "<class 'pandas.core.frame.DataFrame'>\n",
      "RangeIndex: 157 entries, 0 to 156\n",
      "Data columns (total 12 columns):\n",
      "Sales_in_thousands     157 non-null float64\n",
      "4_year_resale_value    121 non-null float64\n",
      "Vehicle_type           157 non-null object\n",
      "Price_in_thousands     155 non-null float64\n",
      "Engine_size            156 non-null float64\n",
      "Horsepower             156 non-null float64\n",
      "Wheelbase              156 non-null float64\n",
      "Width                  156 non-null float64\n",
      "Length                 156 non-null float64\n",
      "Curb_weight            155 non-null float64\n",
      "Fuel_capacity          156 non-null float64\n",
      "Fuel_efficiency        154 non-null float64\n",
      "dtypes: float64(11), object(1)\n",
      "memory usage: 14.8+ KB\n"
     ]
    }
   ],
   "source": [
    "data1.info()"
   ]
  },
  {
   "cell_type": "code",
   "execution_count": 19,
   "metadata": {},
   "outputs": [],
   "source": [
    "out=data1.describe(percentiles=[0.01,.05,.1,.2,.3,.4,.5,.6,.7,.8,.9,.95,.99,1]).T\n",
    "#out.to_csv(\"out.csv\")"
   ]
  },
  {
   "cell_type": "code",
   "execution_count": 20,
   "metadata": {},
   "outputs": [
    {
     "data": {
      "text/html": [
       "<div>\n",
       "<style scoped>\n",
       "    .dataframe tbody tr th:only-of-type {\n",
       "        vertical-align: middle;\n",
       "    }\n",
       "\n",
       "    .dataframe tbody tr th {\n",
       "        vertical-align: top;\n",
       "    }\n",
       "\n",
       "    .dataframe thead th {\n",
       "        text-align: right;\n",
       "    }\n",
       "</style>\n",
       "<table border=\"1\" class=\"dataframe\">\n",
       "  <thead>\n",
       "    <tr style=\"text-align: right;\">\n",
       "      <th></th>\n",
       "      <th>count</th>\n",
       "      <th>mean</th>\n",
       "      <th>std</th>\n",
       "      <th>min</th>\n",
       "      <th>1%</th>\n",
       "      <th>5%</th>\n",
       "      <th>10%</th>\n",
       "      <th>20%</th>\n",
       "      <th>30%</th>\n",
       "      <th>40%</th>\n",
       "      <th>50%</th>\n",
       "      <th>60%</th>\n",
       "      <th>70%</th>\n",
       "      <th>80%</th>\n",
       "      <th>90%</th>\n",
       "      <th>95%</th>\n",
       "      <th>99%</th>\n",
       "      <th>100%</th>\n",
       "      <th>max</th>\n",
       "    </tr>\n",
       "  </thead>\n",
       "  <tbody>\n",
       "    <tr>\n",
       "      <td>Sales_in_thousands</td>\n",
       "      <td>157.0</td>\n",
       "      <td>52.998076</td>\n",
       "      <td>68.029422</td>\n",
       "      <td>0.110</td>\n",
       "      <td>0.93728</td>\n",
       "      <td>1.8708</td>\n",
       "      <td>5.4536</td>\n",
       "      <td>11.2154</td>\n",
       "      <td>16.7726</td>\n",
       "      <td>23.2402</td>\n",
       "      <td>29.450</td>\n",
       "      <td>39.4968</td>\n",
       "      <td>55.5688</td>\n",
       "      <td>80.1746</td>\n",
       "      <td>127.6416</td>\n",
       "      <td>185.3362</td>\n",
       "      <td>260.64532</td>\n",
       "      <td>540.561</td>\n",
       "      <td>540.561</td>\n",
       "    </tr>\n",
       "    <tr>\n",
       "      <td>4_year_resale_value</td>\n",
       "      <td>121.0</td>\n",
       "      <td>18.072975</td>\n",
       "      <td>11.453384</td>\n",
       "      <td>5.160</td>\n",
       "      <td>6.17300</td>\n",
       "      <td>7.8500</td>\n",
       "      <td>9.1250</td>\n",
       "      <td>10.5900</td>\n",
       "      <td>12.2750</td>\n",
       "      <td>13.3250</td>\n",
       "      <td>14.180</td>\n",
       "      <td>16.5750</td>\n",
       "      <td>18.8100</td>\n",
       "      <td>20.9400</td>\n",
       "      <td>32.0750</td>\n",
       "      <td>41.2500</td>\n",
       "      <td>60.22000</td>\n",
       "      <td>67.550</td>\n",
       "      <td>67.550</td>\n",
       "    </tr>\n",
       "    <tr>\n",
       "      <td>Price_in_thousands</td>\n",
       "      <td>155.0</td>\n",
       "      <td>27.390755</td>\n",
       "      <td>14.351653</td>\n",
       "      <td>9.235</td>\n",
       "      <td>10.23144</td>\n",
       "      <td>12.4690</td>\n",
       "      <td>13.9708</td>\n",
       "      <td>16.8854</td>\n",
       "      <td>19.0370</td>\n",
       "      <td>21.4640</td>\n",
       "      <td>22.799</td>\n",
       "      <td>26.0400</td>\n",
       "      <td>29.2762</td>\n",
       "      <td>36.1538</td>\n",
       "      <td>44.0170</td>\n",
       "      <td>55.8350</td>\n",
       "      <td>78.47980</td>\n",
       "      <td>85.500</td>\n",
       "      <td>85.500</td>\n",
       "    </tr>\n",
       "    <tr>\n",
       "      <td>Engine_size</td>\n",
       "      <td>156.0</td>\n",
       "      <td>3.060897</td>\n",
       "      <td>1.044653</td>\n",
       "      <td>1.000</td>\n",
       "      <td>1.55500</td>\n",
       "      <td>1.8000</td>\n",
       "      <td>1.9500</td>\n",
       "      <td>2.0000</td>\n",
       "      <td>2.4000</td>\n",
       "      <td>2.5000</td>\n",
       "      <td>3.000</td>\n",
       "      <td>3.2000</td>\n",
       "      <td>3.4500</td>\n",
       "      <td>3.8000</td>\n",
       "      <td>4.6000</td>\n",
       "      <td>4.7750</td>\n",
       "      <td>5.70000</td>\n",
       "      <td>8.000</td>\n",
       "      <td>8.000</td>\n",
       "    </tr>\n",
       "    <tr>\n",
       "      <td>Horsepower</td>\n",
       "      <td>156.0</td>\n",
       "      <td>185.948718</td>\n",
       "      <td>56.700321</td>\n",
       "      <td>55.000</td>\n",
       "      <td>96.40000</td>\n",
       "      <td>114.5000</td>\n",
       "      <td>120.0000</td>\n",
       "      <td>137.0000</td>\n",
       "      <td>150.0000</td>\n",
       "      <td>168.0000</td>\n",
       "      <td>177.500</td>\n",
       "      <td>195.0000</td>\n",
       "      <td>210.0000</td>\n",
       "      <td>225.0000</td>\n",
       "      <td>254.0000</td>\n",
       "      <td>300.0000</td>\n",
       "      <td>325.75000</td>\n",
       "      <td>450.000</td>\n",
       "      <td>450.000</td>\n",
       "    </tr>\n",
       "    <tr>\n",
       "      <td>Wheelbase</td>\n",
       "      <td>156.0</td>\n",
       "      <td>107.487179</td>\n",
       "      <td>7.641303</td>\n",
       "      <td>92.600</td>\n",
       "      <td>92.87500</td>\n",
       "      <td>95.8750</td>\n",
       "      <td>98.6500</td>\n",
       "      <td>101.4000</td>\n",
       "      <td>103.7000</td>\n",
       "      <td>105.9000</td>\n",
       "      <td>107.000</td>\n",
       "      <td>108.1000</td>\n",
       "      <td>110.5000</td>\n",
       "      <td>113.0000</td>\n",
       "      <td>115.5000</td>\n",
       "      <td>119.2500</td>\n",
       "      <td>134.37500</td>\n",
       "      <td>138.700</td>\n",
       "      <td>138.700</td>\n",
       "    </tr>\n",
       "    <tr>\n",
       "      <td>Width</td>\n",
       "      <td>156.0</td>\n",
       "      <td>71.150000</td>\n",
       "      <td>3.451872</td>\n",
       "      <td>62.600</td>\n",
       "      <td>66.08500</td>\n",
       "      <td>66.5000</td>\n",
       "      <td>66.9000</td>\n",
       "      <td>67.9000</td>\n",
       "      <td>69.0500</td>\n",
       "      <td>69.9000</td>\n",
       "      <td>70.550</td>\n",
       "      <td>71.6000</td>\n",
       "      <td>72.7000</td>\n",
       "      <td>74.4000</td>\n",
       "      <td>76.2000</td>\n",
       "      <td>78.2000</td>\n",
       "      <td>79.19000</td>\n",
       "      <td>79.900</td>\n",
       "      <td>79.900</td>\n",
       "    </tr>\n",
       "    <tr>\n",
       "      <td>Length</td>\n",
       "      <td>156.0</td>\n",
       "      <td>187.343590</td>\n",
       "      <td>13.431754</td>\n",
       "      <td>149.400</td>\n",
       "      <td>154.91500</td>\n",
       "      <td>163.6750</td>\n",
       "      <td>173.0000</td>\n",
       "      <td>176.6000</td>\n",
       "      <td>180.0500</td>\n",
       "      <td>184.8000</td>\n",
       "      <td>187.900</td>\n",
       "      <td>190.7000</td>\n",
       "      <td>193.6000</td>\n",
       "      <td>197.9000</td>\n",
       "      <td>203.4000</td>\n",
       "      <td>208.5000</td>\n",
       "      <td>219.30500</td>\n",
       "      <td>224.500</td>\n",
       "      <td>224.500</td>\n",
       "    </tr>\n",
       "    <tr>\n",
       "      <td>Curb_weight</td>\n",
       "      <td>155.0</td>\n",
       "      <td>3.378026</td>\n",
       "      <td>0.630502</td>\n",
       "      <td>1.895</td>\n",
       "      <td>2.24540</td>\n",
       "      <td>2.4235</td>\n",
       "      <td>2.6062</td>\n",
       "      <td>2.9092</td>\n",
       "      <td>3.0422</td>\n",
       "      <td>3.1880</td>\n",
       "      <td>3.342</td>\n",
       "      <td>3.4788</td>\n",
       "      <td>3.6008</td>\n",
       "      <td>3.8768</td>\n",
       "      <td>4.1186</td>\n",
       "      <td>4.3891</td>\n",
       "      <td>5.39668</td>\n",
       "      <td>5.572</td>\n",
       "      <td>5.572</td>\n",
       "    </tr>\n",
       "    <tr>\n",
       "      <td>Fuel_capacity</td>\n",
       "      <td>156.0</td>\n",
       "      <td>17.951923</td>\n",
       "      <td>3.887921</td>\n",
       "      <td>10.300</td>\n",
       "      <td>11.90000</td>\n",
       "      <td>12.5000</td>\n",
       "      <td>13.2000</td>\n",
       "      <td>15.0000</td>\n",
       "      <td>16.0000</td>\n",
       "      <td>16.8000</td>\n",
       "      <td>17.200</td>\n",
       "      <td>18.5000</td>\n",
       "      <td>19.0000</td>\n",
       "      <td>20.0000</td>\n",
       "      <td>23.2000</td>\n",
       "      <td>25.4000</td>\n",
       "      <td>30.90000</td>\n",
       "      <td>32.000</td>\n",
       "      <td>32.000</td>\n",
       "    </tr>\n",
       "    <tr>\n",
       "      <td>Fuel_efficiency</td>\n",
       "      <td>154.0</td>\n",
       "      <td>23.844156</td>\n",
       "      <td>4.282706</td>\n",
       "      <td>15.000</td>\n",
       "      <td>15.00000</td>\n",
       "      <td>16.6500</td>\n",
       "      <td>18.3000</td>\n",
       "      <td>21.0000</td>\n",
       "      <td>22.0000</td>\n",
       "      <td>23.0000</td>\n",
       "      <td>24.000</td>\n",
       "      <td>25.0000</td>\n",
       "      <td>25.1000</td>\n",
       "      <td>27.0000</td>\n",
       "      <td>28.7000</td>\n",
       "      <td>31.0000</td>\n",
       "      <td>33.00000</td>\n",
       "      <td>45.000</td>\n",
       "      <td>45.000</td>\n",
       "    </tr>\n",
       "  </tbody>\n",
       "</table>\n",
       "</div>"
      ],
      "text/plain": [
       "                     count        mean        std      min         1%  \\\n",
       "Sales_in_thousands   157.0   52.998076  68.029422    0.110    0.93728   \n",
       "4_year_resale_value  121.0   18.072975  11.453384    5.160    6.17300   \n",
       "Price_in_thousands   155.0   27.390755  14.351653    9.235   10.23144   \n",
       "Engine_size          156.0    3.060897   1.044653    1.000    1.55500   \n",
       "Horsepower           156.0  185.948718  56.700321   55.000   96.40000   \n",
       "Wheelbase            156.0  107.487179   7.641303   92.600   92.87500   \n",
       "Width                156.0   71.150000   3.451872   62.600   66.08500   \n",
       "Length               156.0  187.343590  13.431754  149.400  154.91500   \n",
       "Curb_weight          155.0    3.378026   0.630502    1.895    2.24540   \n",
       "Fuel_capacity        156.0   17.951923   3.887921   10.300   11.90000   \n",
       "Fuel_efficiency      154.0   23.844156   4.282706   15.000   15.00000   \n",
       "\n",
       "                           5%       10%       20%       30%       40%  \\\n",
       "Sales_in_thousands     1.8708    5.4536   11.2154   16.7726   23.2402   \n",
       "4_year_resale_value    7.8500    9.1250   10.5900   12.2750   13.3250   \n",
       "Price_in_thousands    12.4690   13.9708   16.8854   19.0370   21.4640   \n",
       "Engine_size            1.8000    1.9500    2.0000    2.4000    2.5000   \n",
       "Horsepower           114.5000  120.0000  137.0000  150.0000  168.0000   \n",
       "Wheelbase             95.8750   98.6500  101.4000  103.7000  105.9000   \n",
       "Width                 66.5000   66.9000   67.9000   69.0500   69.9000   \n",
       "Length               163.6750  173.0000  176.6000  180.0500  184.8000   \n",
       "Curb_weight            2.4235    2.6062    2.9092    3.0422    3.1880   \n",
       "Fuel_capacity         12.5000   13.2000   15.0000   16.0000   16.8000   \n",
       "Fuel_efficiency       16.6500   18.3000   21.0000   22.0000   23.0000   \n",
       "\n",
       "                         50%       60%       70%       80%       90%  \\\n",
       "Sales_in_thousands    29.450   39.4968   55.5688   80.1746  127.6416   \n",
       "4_year_resale_value   14.180   16.5750   18.8100   20.9400   32.0750   \n",
       "Price_in_thousands    22.799   26.0400   29.2762   36.1538   44.0170   \n",
       "Engine_size            3.000    3.2000    3.4500    3.8000    4.6000   \n",
       "Horsepower           177.500  195.0000  210.0000  225.0000  254.0000   \n",
       "Wheelbase            107.000  108.1000  110.5000  113.0000  115.5000   \n",
       "Width                 70.550   71.6000   72.7000   74.4000   76.2000   \n",
       "Length               187.900  190.7000  193.6000  197.9000  203.4000   \n",
       "Curb_weight            3.342    3.4788    3.6008    3.8768    4.1186   \n",
       "Fuel_capacity         17.200   18.5000   19.0000   20.0000   23.2000   \n",
       "Fuel_efficiency       24.000   25.0000   25.1000   27.0000   28.7000   \n",
       "\n",
       "                          95%        99%     100%      max  \n",
       "Sales_in_thousands   185.3362  260.64532  540.561  540.561  \n",
       "4_year_resale_value   41.2500   60.22000   67.550   67.550  \n",
       "Price_in_thousands    55.8350   78.47980   85.500   85.500  \n",
       "Engine_size            4.7750    5.70000    8.000    8.000  \n",
       "Horsepower           300.0000  325.75000  450.000  450.000  \n",
       "Wheelbase            119.2500  134.37500  138.700  138.700  \n",
       "Width                 78.2000   79.19000   79.900   79.900  \n",
       "Length               208.5000  219.30500  224.500  224.500  \n",
       "Curb_weight            4.3891    5.39668    5.572    5.572  \n",
       "Fuel_capacity         25.4000   30.90000   32.000   32.000  \n",
       "Fuel_efficiency       31.0000   33.00000   45.000   45.000  "
      ]
     },
     "execution_count": 20,
     "metadata": {},
     "output_type": "execute_result"
    }
   ],
   "source": [
    "data1.describe(percentiles=[0.01,.05,.1,.2,.3,.4,.5,.6,.7,.8,.9,.95,.99,1]).T"
   ]
  },
  {
   "cell_type": "code",
   "execution_count": 21,
   "metadata": {},
   "outputs": [],
   "source": [
    "#Extract numerical and Categorical data \n",
    "df_cat=data1.select_dtypes(include=\"object\")\n",
    "df_num=data1.select_dtypes(exclude=\"object\")"
   ]
  },
  {
   "cell_type": "code",
   "execution_count": 22,
   "metadata": {},
   "outputs": [
    {
     "data": {
      "text/html": [
       "<div>\n",
       "<style scoped>\n",
       "    .dataframe tbody tr th:only-of-type {\n",
       "        vertical-align: middle;\n",
       "    }\n",
       "\n",
       "    .dataframe tbody tr th {\n",
       "        vertical-align: top;\n",
       "    }\n",
       "\n",
       "    .dataframe thead th {\n",
       "        text-align: right;\n",
       "    }\n",
       "</style>\n",
       "<table border=\"1\" class=\"dataframe\">\n",
       "  <thead>\n",
       "    <tr style=\"text-align: right;\">\n",
       "      <th></th>\n",
       "      <th>Sales_in_thousands</th>\n",
       "      <th>4_year_resale_value</th>\n",
       "      <th>Price_in_thousands</th>\n",
       "      <th>Engine_size</th>\n",
       "      <th>Horsepower</th>\n",
       "      <th>Wheelbase</th>\n",
       "      <th>Width</th>\n",
       "      <th>Length</th>\n",
       "      <th>Curb_weight</th>\n",
       "      <th>Fuel_capacity</th>\n",
       "      <th>Fuel_efficiency</th>\n",
       "    </tr>\n",
       "  </thead>\n",
       "  <tbody>\n",
       "    <tr>\n",
       "      <td>0</td>\n",
       "      <td>16.919</td>\n",
       "      <td>16.360</td>\n",
       "      <td>21.50</td>\n",
       "      <td>1.8</td>\n",
       "      <td>140.0</td>\n",
       "      <td>101.2</td>\n",
       "      <td>67.3</td>\n",
       "      <td>172.4</td>\n",
       "      <td>2.639</td>\n",
       "      <td>13.2</td>\n",
       "      <td>28.0</td>\n",
       "    </tr>\n",
       "    <tr>\n",
       "      <td>1</td>\n",
       "      <td>39.384</td>\n",
       "      <td>19.875</td>\n",
       "      <td>28.40</td>\n",
       "      <td>3.2</td>\n",
       "      <td>225.0</td>\n",
       "      <td>108.1</td>\n",
       "      <td>70.3</td>\n",
       "      <td>192.9</td>\n",
       "      <td>3.517</td>\n",
       "      <td>17.2</td>\n",
       "      <td>25.0</td>\n",
       "    </tr>\n",
       "    <tr>\n",
       "      <td>2</td>\n",
       "      <td>14.114</td>\n",
       "      <td>18.225</td>\n",
       "      <td>NaN</td>\n",
       "      <td>3.2</td>\n",
       "      <td>225.0</td>\n",
       "      <td>106.9</td>\n",
       "      <td>70.6</td>\n",
       "      <td>192.0</td>\n",
       "      <td>3.470</td>\n",
       "      <td>17.2</td>\n",
       "      <td>26.0</td>\n",
       "    </tr>\n",
       "    <tr>\n",
       "      <td>3</td>\n",
       "      <td>8.588</td>\n",
       "      <td>29.725</td>\n",
       "      <td>42.00</td>\n",
       "      <td>3.5</td>\n",
       "      <td>210.0</td>\n",
       "      <td>114.6</td>\n",
       "      <td>71.4</td>\n",
       "      <td>196.6</td>\n",
       "      <td>3.850</td>\n",
       "      <td>18.0</td>\n",
       "      <td>22.0</td>\n",
       "    </tr>\n",
       "    <tr>\n",
       "      <td>4</td>\n",
       "      <td>20.397</td>\n",
       "      <td>22.255</td>\n",
       "      <td>23.99</td>\n",
       "      <td>1.8</td>\n",
       "      <td>150.0</td>\n",
       "      <td>102.6</td>\n",
       "      <td>68.2</td>\n",
       "      <td>178.0</td>\n",
       "      <td>2.998</td>\n",
       "      <td>16.4</td>\n",
       "      <td>27.0</td>\n",
       "    </tr>\n",
       "    <tr>\n",
       "      <td>...</td>\n",
       "      <td>...</td>\n",
       "      <td>...</td>\n",
       "      <td>...</td>\n",
       "      <td>...</td>\n",
       "      <td>...</td>\n",
       "      <td>...</td>\n",
       "      <td>...</td>\n",
       "      <td>...</td>\n",
       "      <td>...</td>\n",
       "      <td>...</td>\n",
       "      <td>...</td>\n",
       "    </tr>\n",
       "    <tr>\n",
       "      <td>152</td>\n",
       "      <td>3.545</td>\n",
       "      <td>NaN</td>\n",
       "      <td>24.40</td>\n",
       "      <td>1.9</td>\n",
       "      <td>160.0</td>\n",
       "      <td>100.5</td>\n",
       "      <td>67.6</td>\n",
       "      <td>176.6</td>\n",
       "      <td>3.042</td>\n",
       "      <td>15.8</td>\n",
       "      <td>25.0</td>\n",
       "    </tr>\n",
       "    <tr>\n",
       "      <td>153</td>\n",
       "      <td>15.245</td>\n",
       "      <td>NaN</td>\n",
       "      <td>27.50</td>\n",
       "      <td>2.4</td>\n",
       "      <td>168.0</td>\n",
       "      <td>104.9</td>\n",
       "      <td>69.3</td>\n",
       "      <td>185.9</td>\n",
       "      <td>3.208</td>\n",
       "      <td>17.9</td>\n",
       "      <td>25.0</td>\n",
       "    </tr>\n",
       "    <tr>\n",
       "      <td>154</td>\n",
       "      <td>17.531</td>\n",
       "      <td>NaN</td>\n",
       "      <td>28.80</td>\n",
       "      <td>2.4</td>\n",
       "      <td>168.0</td>\n",
       "      <td>104.9</td>\n",
       "      <td>69.3</td>\n",
       "      <td>186.2</td>\n",
       "      <td>3.259</td>\n",
       "      <td>17.9</td>\n",
       "      <td>25.0</td>\n",
       "    </tr>\n",
       "    <tr>\n",
       "      <td>155</td>\n",
       "      <td>3.493</td>\n",
       "      <td>NaN</td>\n",
       "      <td>45.50</td>\n",
       "      <td>2.3</td>\n",
       "      <td>236.0</td>\n",
       "      <td>104.9</td>\n",
       "      <td>71.5</td>\n",
       "      <td>185.7</td>\n",
       "      <td>3.601</td>\n",
       "      <td>18.5</td>\n",
       "      <td>23.0</td>\n",
       "    </tr>\n",
       "    <tr>\n",
       "      <td>156</td>\n",
       "      <td>18.969</td>\n",
       "      <td>NaN</td>\n",
       "      <td>36.00</td>\n",
       "      <td>2.9</td>\n",
       "      <td>201.0</td>\n",
       "      <td>109.9</td>\n",
       "      <td>72.1</td>\n",
       "      <td>189.8</td>\n",
       "      <td>3.600</td>\n",
       "      <td>21.1</td>\n",
       "      <td>24.0</td>\n",
       "    </tr>\n",
       "  </tbody>\n",
       "</table>\n",
       "<p>157 rows × 11 columns</p>\n",
       "</div>"
      ],
      "text/plain": [
       "     Sales_in_thousands  4_year_resale_value  Price_in_thousands  Engine_size  \\\n",
       "0                16.919               16.360               21.50          1.8   \n",
       "1                39.384               19.875               28.40          3.2   \n",
       "2                14.114               18.225                 NaN          3.2   \n",
       "3                 8.588               29.725               42.00          3.5   \n",
       "4                20.397               22.255               23.99          1.8   \n",
       "..                  ...                  ...                 ...          ...   \n",
       "152               3.545                  NaN               24.40          1.9   \n",
       "153              15.245                  NaN               27.50          2.4   \n",
       "154              17.531                  NaN               28.80          2.4   \n",
       "155               3.493                  NaN               45.50          2.3   \n",
       "156              18.969                  NaN               36.00          2.9   \n",
       "\n",
       "     Horsepower  Wheelbase  Width  Length  Curb_weight  Fuel_capacity  \\\n",
       "0         140.0      101.2   67.3   172.4        2.639           13.2   \n",
       "1         225.0      108.1   70.3   192.9        3.517           17.2   \n",
       "2         225.0      106.9   70.6   192.0        3.470           17.2   \n",
       "3         210.0      114.6   71.4   196.6        3.850           18.0   \n",
       "4         150.0      102.6   68.2   178.0        2.998           16.4   \n",
       "..          ...        ...    ...     ...          ...            ...   \n",
       "152       160.0      100.5   67.6   176.6        3.042           15.8   \n",
       "153       168.0      104.9   69.3   185.9        3.208           17.9   \n",
       "154       168.0      104.9   69.3   186.2        3.259           17.9   \n",
       "155       236.0      104.9   71.5   185.7        3.601           18.5   \n",
       "156       201.0      109.9   72.1   189.8        3.600           21.1   \n",
       "\n",
       "     Fuel_efficiency  \n",
       "0               28.0  \n",
       "1               25.0  \n",
       "2               26.0  \n",
       "3               22.0  \n",
       "4               27.0  \n",
       "..               ...  \n",
       "152             25.0  \n",
       "153             25.0  \n",
       "154             25.0  \n",
       "155             23.0  \n",
       "156             24.0  \n",
       "\n",
       "[157 rows x 11 columns]"
      ]
     },
     "execution_count": 22,
     "metadata": {},
     "output_type": "execute_result"
    }
   ],
   "source": [
    "df_num"
   ]
  },
  {
   "cell_type": "code",
   "execution_count": null,
   "metadata": {},
   "outputs": [],
   "source": []
  },
  {
   "cell_type": "code",
   "execution_count": 23,
   "metadata": {},
   "outputs": [
    {
     "name": "stdout",
     "output_type": "stream",
     "text": [
      "Sales_in_thousands 0.9372799999999999 260.64531999999997\n",
      "4_year_resale_value 6.173 60.22\n",
      "Price_in_thousands 10.23144 78.47980000000007\n",
      "Engine_size 1.5550000000000002 5.7\n",
      "Horsepower 96.4 325.7499999999996\n",
      "Wheelbase 92.875 134.37499999999991\n",
      "Width 66.08500000000001 79.19\n",
      "Length 154.91500000000002 219.3049999999999\n",
      "Curb_weight 2.2454 5.39668\n",
      "Fuel_capacity 11.9 30.899999999999977\n",
      "Fuel_efficiency 15.0 33.0\n"
     ]
    }
   ],
   "source": [
    "for col in df_num.columns:\n",
    "    percentiles = df_num[col].quantile([0.01,0.99]).values\n",
    "    \n",
    "    print(col, percentiles[0], percentiles[1])\n"
   ]
  },
  {
   "cell_type": "code",
   "execution_count": 24,
   "metadata": {},
   "outputs": [
    {
     "name": "stderr",
     "output_type": "stream",
     "text": [
      "C:\\ProgramData\\Anaconda3\\lib\\site-packages\\ipykernel_launcher.py:3: SettingWithCopyWarning: \n",
      "A value is trying to be set on a copy of a slice from a DataFrame.\n",
      "Try using .loc[row_indexer,col_indexer] = value instead\n",
      "\n",
      "See the caveats in the documentation: http://pandas.pydata.org/pandas-docs/stable/user_guide/indexing.html#returning-a-view-versus-a-copy\n",
      "  This is separate from the ipykernel package so we can avoid doing imports until\n"
     ]
    }
   ],
   "source": [
    "for col in df_num.columns:\n",
    "    percentiles = df_num[col].quantile([0.01,0.99]).values\n",
    "    df_num[col] = np.clip(df_num[col], percentiles[0], percentiles[1])"
   ]
  },
  {
   "cell_type": "code",
   "execution_count": 25,
   "metadata": {},
   "outputs": [
    {
     "data": {
      "text/html": [
       "<div>\n",
       "<style scoped>\n",
       "    .dataframe tbody tr th:only-of-type {\n",
       "        vertical-align: middle;\n",
       "    }\n",
       "\n",
       "    .dataframe tbody tr th {\n",
       "        vertical-align: top;\n",
       "    }\n",
       "\n",
       "    .dataframe thead th {\n",
       "        text-align: right;\n",
       "    }\n",
       "</style>\n",
       "<table border=\"1\" class=\"dataframe\">\n",
       "  <thead>\n",
       "    <tr style=\"text-align: right;\">\n",
       "      <th></th>\n",
       "      <th>Sales_in_thousands</th>\n",
       "      <th>4_year_resale_value</th>\n",
       "      <th>Price_in_thousands</th>\n",
       "      <th>Engine_size</th>\n",
       "      <th>Horsepower</th>\n",
       "      <th>Wheelbase</th>\n",
       "      <th>Width</th>\n",
       "      <th>Length</th>\n",
       "      <th>Curb_weight</th>\n",
       "      <th>Fuel_capacity</th>\n",
       "      <th>Fuel_efficiency</th>\n",
       "    </tr>\n",
       "  </thead>\n",
       "  <tbody>\n",
       "    <tr>\n",
       "      <td>count</td>\n",
       "      <td>157.000000</td>\n",
       "      <td>121.000000</td>\n",
       "      <td>155.000000</td>\n",
       "      <td>156.000000</td>\n",
       "      <td>156.000000</td>\n",
       "      <td>156.000000</td>\n",
       "      <td>156.000000</td>\n",
       "      <td>156.000000</td>\n",
       "      <td>155.000000</td>\n",
       "      <td>156.000000</td>\n",
       "      <td>154.000000</td>\n",
       "    </tr>\n",
       "    <tr>\n",
       "      <td>mean</td>\n",
       "      <td>51.118020</td>\n",
       "      <td>18.020008</td>\n",
       "      <td>27.328745</td>\n",
       "      <td>3.050064</td>\n",
       "      <td>185.322436</td>\n",
       "      <td>107.436538</td>\n",
       "      <td>71.169551</td>\n",
       "      <td>187.332949</td>\n",
       "      <td>3.379162</td>\n",
       "      <td>17.948077</td>\n",
       "      <td>23.766234</td>\n",
       "    </tr>\n",
       "    <tr>\n",
       "      <td>std</td>\n",
       "      <td>57.722699</td>\n",
       "      <td>11.181335</td>\n",
       "      <td>14.063970</td>\n",
       "      <td>0.982279</td>\n",
       "      <td>52.816470</td>\n",
       "      <td>7.424295</td>\n",
       "      <td>3.390339</td>\n",
       "      <td>13.120350</td>\n",
       "      <td>0.621764</td>\n",
       "      <td>3.819854</td>\n",
       "      <td>3.994755</td>\n",
       "    </tr>\n",
       "    <tr>\n",
       "      <td>min</td>\n",
       "      <td>0.937280</td>\n",
       "      <td>6.173000</td>\n",
       "      <td>10.231440</td>\n",
       "      <td>1.555000</td>\n",
       "      <td>96.400000</td>\n",
       "      <td>92.875000</td>\n",
       "      <td>66.085000</td>\n",
       "      <td>154.915000</td>\n",
       "      <td>2.245400</td>\n",
       "      <td>11.900000</td>\n",
       "      <td>15.000000</td>\n",
       "    </tr>\n",
       "    <tr>\n",
       "      <td>25%</td>\n",
       "      <td>14.114000</td>\n",
       "      <td>11.260000</td>\n",
       "      <td>18.017500</td>\n",
       "      <td>2.300000</td>\n",
       "      <td>149.500000</td>\n",
       "      <td>103.000000</td>\n",
       "      <td>68.400000</td>\n",
       "      <td>177.575000</td>\n",
       "      <td>2.971000</td>\n",
       "      <td>15.800000</td>\n",
       "      <td>21.000000</td>\n",
       "    </tr>\n",
       "    <tr>\n",
       "      <td>50%</td>\n",
       "      <td>29.450000</td>\n",
       "      <td>14.180000</td>\n",
       "      <td>22.799000</td>\n",
       "      <td>3.000000</td>\n",
       "      <td>177.500000</td>\n",
       "      <td>107.000000</td>\n",
       "      <td>70.550000</td>\n",
       "      <td>187.900000</td>\n",
       "      <td>3.342000</td>\n",
       "      <td>17.200000</td>\n",
       "      <td>24.000000</td>\n",
       "    </tr>\n",
       "    <tr>\n",
       "      <td>75%</td>\n",
       "      <td>67.956000</td>\n",
       "      <td>19.875000</td>\n",
       "      <td>31.947500</td>\n",
       "      <td>3.575000</td>\n",
       "      <td>215.000000</td>\n",
       "      <td>112.200000</td>\n",
       "      <td>73.425000</td>\n",
       "      <td>196.125000</td>\n",
       "      <td>3.799500</td>\n",
       "      <td>19.575000</td>\n",
       "      <td>26.000000</td>\n",
       "    </tr>\n",
       "    <tr>\n",
       "      <td>max</td>\n",
       "      <td>260.645320</td>\n",
       "      <td>60.220000</td>\n",
       "      <td>78.479800</td>\n",
       "      <td>5.700000</td>\n",
       "      <td>325.750000</td>\n",
       "      <td>134.375000</td>\n",
       "      <td>79.190000</td>\n",
       "      <td>219.305000</td>\n",
       "      <td>5.396680</td>\n",
       "      <td>30.900000</td>\n",
       "      <td>33.000000</td>\n",
       "    </tr>\n",
       "  </tbody>\n",
       "</table>\n",
       "</div>"
      ],
      "text/plain": [
       "       Sales_in_thousands  4_year_resale_value  Price_in_thousands  \\\n",
       "count          157.000000           121.000000          155.000000   \n",
       "mean            51.118020            18.020008           27.328745   \n",
       "std             57.722699            11.181335           14.063970   \n",
       "min              0.937280             6.173000           10.231440   \n",
       "25%             14.114000            11.260000           18.017500   \n",
       "50%             29.450000            14.180000           22.799000   \n",
       "75%             67.956000            19.875000           31.947500   \n",
       "max            260.645320            60.220000           78.479800   \n",
       "\n",
       "       Engine_size  Horsepower   Wheelbase       Width      Length  \\\n",
       "count   156.000000  156.000000  156.000000  156.000000  156.000000   \n",
       "mean      3.050064  185.322436  107.436538   71.169551  187.332949   \n",
       "std       0.982279   52.816470    7.424295    3.390339   13.120350   \n",
       "min       1.555000   96.400000   92.875000   66.085000  154.915000   \n",
       "25%       2.300000  149.500000  103.000000   68.400000  177.575000   \n",
       "50%       3.000000  177.500000  107.000000   70.550000  187.900000   \n",
       "75%       3.575000  215.000000  112.200000   73.425000  196.125000   \n",
       "max       5.700000  325.750000  134.375000   79.190000  219.305000   \n",
       "\n",
       "       Curb_weight  Fuel_capacity  Fuel_efficiency  \n",
       "count   155.000000     156.000000       154.000000  \n",
       "mean      3.379162      17.948077        23.766234  \n",
       "std       0.621764       3.819854         3.994755  \n",
       "min       2.245400      11.900000        15.000000  \n",
       "25%       2.971000      15.800000        21.000000  \n",
       "50%       3.342000      17.200000        24.000000  \n",
       "75%       3.799500      19.575000        26.000000  \n",
       "max       5.396680      30.900000        33.000000  "
      ]
     },
     "execution_count": 25,
     "metadata": {},
     "output_type": "execute_result"
    }
   ],
   "source": [
    "df_num.describe()"
   ]
  },
  {
   "cell_type": "code",
   "execution_count": 26,
   "metadata": {},
   "outputs": [
    {
     "data": {
      "text/plain": [
       "[]"
      ]
     },
     "execution_count": 26,
     "metadata": {},
     "output_type": "execute_result"
    },
    {
     "data": {
      "image/png": "[encoded data removed]",
      "text/plain": [
       "<Figure size 432x288 with 1 Axes>"
      ]
     },
     "metadata": {
      "needs_background": "light"
     },
     "output_type": "display_data"
    }
   ],
   "source": [
    "plt.hist(df_num[\"Sales_in_thousands\"])\n",
    "plt.plot()"
   ]
  },
  {
   "cell_type": "code",
   "execution_count": 27,
   "metadata": {},
   "outputs": [
    {
     "data": {
      "image/png": "[encoded data removed]",
      "text/plain": [
       "<Figure size 432x288 with 1 Axes>"
      ]
     },
     "metadata": {
      "needs_background": "light"
     },
     "output_type": "display_data"
    }
   ],
   "source": [
    "plt.hist(data[\"Sales_in_thousands\"])\n",
    "plt.show()"
   ]
  },
  {
   "cell_type": "code",
   "execution_count": 28,
   "metadata": {},
   "outputs": [
    {
     "data": {
      "text/plain": [
       "Sales_in_thousands      0.00\n",
       "4_year_resale_value    22.93\n",
       "Price_in_thousands      1.27\n",
       "Engine_size             0.64\n",
       "Horsepower              0.64\n",
       "Wheelbase               0.64\n",
       "Width                   0.64\n",
       "Length                  0.64\n",
       "Curb_weight             1.27\n",
       "Fuel_capacity           0.64\n",
       "Fuel_efficiency         1.91\n",
       "dtype: float64"
      ]
     },
     "execution_count": 28,
     "metadata": {},
     "output_type": "execute_result"
    }
   ],
   "source": [
    "round(df_num.isnull().sum()/len(df_num.Sales_in_thousands),4)*100"
   ]
  },
  {
   "cell_type": "code",
   "execution_count": 29,
   "metadata": {},
   "outputs": [],
   "source": [
    "df_num1=df_num.drop(columns=[\"4_year_resale_value\"])"
   ]
  },
  {
   "cell_type": "code",
   "execution_count": 30,
   "metadata": {},
   "outputs": [
    {
     "data": {
      "text/plain": [
       "Index(['Sales_in_thousands', 'Price_in_thousands', 'Engine_size', 'Horsepower',\n",
       "       'Wheelbase', 'Width', 'Length', 'Curb_weight', 'Fuel_capacity',\n",
       "       'Fuel_efficiency'],\n",
       "      dtype='object')"
      ]
     },
     "execution_count": 30,
     "metadata": {},
     "output_type": "execute_result"
    }
   ],
   "source": [
    "df_num1.columns"
   ]
  },
  {
   "cell_type": "code",
   "execution_count": 31,
   "metadata": {},
   "outputs": [
    {
     "data": {
      "text/plain": [
       "(157, 10)"
      ]
     },
     "execution_count": 31,
     "metadata": {},
     "output_type": "execute_result"
    }
   ],
   "source": [
    "df_num1.shape"
   ]
  },
  {
   "cell_type": "code",
   "execution_count": 32,
   "metadata": {},
   "outputs": [
    {
     "data": {
      "text/plain": [
       "Sales_in_thousands    0.00\n",
       "Price_in_thousands    1.27\n",
       "Engine_size           0.64\n",
       "Horsepower            0.64\n",
       "Wheelbase             0.64\n",
       "Width                 0.64\n",
       "Length                0.64\n",
       "Curb_weight           1.27\n",
       "Fuel_capacity         0.64\n",
       "Fuel_efficiency       1.91\n",
       "dtype: float64"
      ]
     },
     "execution_count": 32,
     "metadata": {},
     "output_type": "execute_result"
    }
   ],
   "source": [
    "round(df_num1.isnull().sum()/len(df_num1.Sales_in_thousands),4)*100"
   ]
  },
  {
   "cell_type": "code",
   "execution_count": 33,
   "metadata": {},
   "outputs": [
    {
     "ename": "TypeError",
     "evalue": "concat() got multiple values for argument 'axis'",
     "output_type": "error",
     "traceback": [
      "\u001b[1;31m---------------------------------------------------------------------------\u001b[0m",
      "\u001b[1;31mTypeError\u001b[0m                                 Traceback (most recent call last)",
      "\u001b[1;32m<ipython-input-33-7255c5be3194>\u001b[0m in \u001b[0;36m<module>\u001b[1;34m\u001b[0m\n\u001b[1;32m----> 1\u001b[1;33m \u001b[0mfinal_data\u001b[0m\u001b[1;33m=\u001b[0m\u001b[0mpd\u001b[0m\u001b[1;33m.\u001b[0m\u001b[0mconcat\u001b[0m\u001b[1;33m(\u001b[0m\u001b[0mdf_num1\u001b[0m\u001b[1;33m,\u001b[0m \u001b[0mdf_cat\u001b[0m\u001b[1;33m,\u001b[0m \u001b[0maxis\u001b[0m\u001b[1;33m=\u001b[0m\u001b[1;36m1\u001b[0m\u001b[1;33m)\u001b[0m\u001b[1;33m\u001b[0m\u001b[1;33m\u001b[0m\u001b[0m\n\u001b[0m",
      "\u001b[1;31mTypeError\u001b[0m: concat() got multiple values for argument 'axis'"
     ]
    }
   ],
   "source": [
    "#final_data=pd.concat(df_num1, df_cat, axis=1)"
   ]
  },
  {
   "cell_type": "code",
   "execution_count": 34,
   "metadata": {},
   "outputs": [],
   "source": [
    "final_data=pd.concat([df_num1, df_cat], axis=1)"
   ]
  },
  {
   "cell_type": "code",
   "execution_count": 35,
   "metadata": {},
   "outputs": [
    {
     "data": {
      "text/plain": [
       "(157, 11)"
      ]
     },
     "execution_count": 35,
     "metadata": {},
     "output_type": "execute_result"
    }
   ],
   "source": [
    "final_data.shape"
   ]
  },
  {
   "cell_type": "code",
   "execution_count": 36,
   "metadata": {},
   "outputs": [],
   "source": [
    "final_data1=final_data.dropna()"
   ]
  },
  {
   "cell_type": "code",
   "execution_count": 37,
   "metadata": {},
   "outputs": [
    {
     "data": {
      "text/plain": [
       "(152, 11)"
      ]
     },
     "execution_count": 37,
     "metadata": {},
     "output_type": "execute_result"
    }
   ],
   "source": [
    "final_data1.shape"
   ]
  },
  {
   "cell_type": "code",
   "execution_count": 38,
   "metadata": {},
   "outputs": [
    {
     "data": {
      "text/plain": [
       "Sales_in_thousands    0\n",
       "Price_in_thousands    0\n",
       "Engine_size           0\n",
       "Horsepower            0\n",
       "Wheelbase             0\n",
       "Width                 0\n",
       "Length                0\n",
       "Curb_weight           0\n",
       "Fuel_capacity         0\n",
       "Fuel_efficiency       0\n",
       "Vehicle_type          0\n",
       "dtype: int64"
      ]
     },
     "execution_count": 38,
     "metadata": {},
     "output_type": "execute_result"
    }
   ],
   "source": [
    "final_data1.isnull().sum()"
   ]
  },
  {
   "cell_type": "code",
   "execution_count": 39,
   "metadata": {},
   "outputs": [
    {
     "name": "stdout",
     "output_type": "stream",
     "text": [
      "<class 'pandas.core.frame.DataFrame'>\n",
      "Int64Index: 152 entries, 0 to 156\n",
      "Data columns (total 11 columns):\n",
      "Sales_in_thousands    152 non-null float64\n",
      "Price_in_thousands    152 non-null float64\n",
      "Engine_size           152 non-null float64\n",
      "Horsepower            152 non-null float64\n",
      "Wheelbase             152 non-null float64\n",
      "Width                 152 non-null float64\n",
      "Length                152 non-null float64\n",
      "Curb_weight           152 non-null float64\n",
      "Fuel_capacity         152 non-null float64\n",
      "Fuel_efficiency       152 non-null float64\n",
      "Vehicle_type          152 non-null object\n",
      "dtypes: float64(10), object(1)\n",
      "memory usage: 14.2+ KB\n"
     ]
    }
   ],
   "source": [
    "final_data1.info()"
   ]
  },
  {
   "cell_type": "code",
   "execution_count": 40,
   "metadata": {},
   "outputs": [
    {
     "data": {
      "text/plain": [
       "Passenger    112\n",
       "Car           40\n",
       "Name: Vehicle_type, dtype: int64"
      ]
     },
     "execution_count": 40,
     "metadata": {},
     "output_type": "execute_result"
    }
   ],
   "source": [
    "final_data1.Vehicle_type.value_counts()"
   ]
  },
  {
   "cell_type": "code",
   "execution_count": 41,
   "metadata": {},
   "outputs": [
    {
     "name": "stderr",
     "output_type": "stream",
     "text": [
      "C:\\ProgramData\\Anaconda3\\lib\\site-packages\\ipykernel_launcher.py:1: SettingWithCopyWarning: \n",
      "A value is trying to be set on a copy of a slice from a DataFrame.\n",
      "Try using .loc[row_indexer,col_indexer] = value instead\n",
      "\n",
      "See the caveats in the documentation: http://pandas.pydata.org/pandas-docs/stable/user_guide/indexing.html#returning-a-view-versus-a-copy\n",
      "  \"\"\"Entry point for launching an IPython kernel.\n"
     ]
    }
   ],
   "source": [
    "final_data1[\"dummy_vehicle\"]=np.where(final_data1[\"Vehicle_type\"]==\"Car\",1,0)"
   ]
  },
  {
   "cell_type": "code",
   "execution_count": 42,
   "metadata": {},
   "outputs": [
    {
     "data": {
      "text/plain": [
       "0    112\n",
       "1     40\n",
       "Name: dummy_vehicle, dtype: int64"
      ]
     },
     "execution_count": 42,
     "metadata": {},
     "output_type": "execute_result"
    }
   ],
   "source": [
    "final_data1[\"dummy_vehicle\"].value_counts()"
   ]
  },
  {
   "cell_type": "code",
   "execution_count": null,
   "metadata": {},
   "outputs": [],
   "source": []
  },
  {
   "cell_type": "code",
   "execution_count": null,
   "metadata": {},
   "outputs": [],
   "source": []
  },
  {
   "cell_type": "code",
   "execution_count": 43,
   "metadata": {},
   "outputs": [
    {
     "name": "stdout",
     "output_type": "stream",
     "text": [
      "                            OLS Regression Results                            \n",
      "==============================================================================\n",
      "Dep. Variable:     Sales_in_thousands   R-squared:                       0.325\n",
      "Model:                            OLS   Adj. R-squared:                  0.277\n",
      "Method:                 Least Squares   F-statistic:                     6.776\n",
      "Date:                Sun, 22 Dec 2019   Prob (F-statistic):           1.43e-08\n",
      "Time:                        12:44:06   Log-Likelihood:                -803.68\n",
      "No. Observations:                 152   AIC:                             1629.\n",
      "Df Residuals:                     141   BIC:                             1663.\n",
      "Df Model:                          10                                         \n",
      "Covariance Type:            nonrobust                                         \n",
      "======================================================================================\n",
      "                         coef    std err          t      P>|t|      [0.025      0.975]\n",
      "--------------------------------------------------------------------------------------\n",
      "const               -260.5833    141.473     -1.842      0.068    -540.266      19.099\n",
      "Price_in_thousands    -0.2207      0.674     -0.327      0.744      -1.553       1.112\n",
      "Engine_size           31.1340     10.083      3.088      0.002      11.200      51.068\n",
      "Horsepower            -0.4239      0.220     -1.926      0.056      -0.859       0.011\n",
      "Wheelbase              2.1602      1.197      1.805      0.073      -0.206       4.526\n",
      "Width                  0.5163      2.057      0.251      0.802      -3.551       4.584\n",
      "Length                 0.7298      0.723      1.010      0.314      -0.699       2.159\n",
      "Curb_weight          -49.5130     18.032     -2.746      0.007     -85.161     -13.865\n",
      "Fuel_capacity          0.0526      2.473      0.021      0.983      -4.837       4.942\n",
      "Fuel_efficiency        2.1776      2.333      0.933      0.352      -2.435       6.790\n",
      "dummy_vehicle         41.3679     16.911      2.446      0.016       7.936      74.800\n",
      "==============================================================================\n",
      "Omnibus:                       58.133   Durbin-Watson:                   1.299\n",
      "Prob(Omnibus):                  0.000   Jarque-Bera (JB):              147.655\n",
      "Skew:                           1.599   Prob(JB):                     8.65e-33\n",
      "Kurtosis:                       6.617   Cond. No.                     1.05e+04\n",
      "==============================================================================\n",
      "\n",
      "Warnings:\n",
      "[1] Standard Errors assume that the covariance matrix of the errors is correctly specified.\n",
      "[2] The condition number is large, 1.05e+04. This might indicate that there are\n",
      "strong multicollinearity or other numerical problems.\n"
     ]
    },
    {
     "name": "stderr",
     "output_type": "stream",
     "text": [
      "C:\\ProgramData\\Anaconda3\\lib\\site-packages\\numpy\\core\\fromnumeric.py:2389: FutureWarning: Method .ptp is deprecated and will be removed in a future version. Use numpy.ptp instead.\n",
      "  return ptp(axis=axis, out=out, **kwargs)\n"
     ]
    }
   ],
   "source": [
    "import statsmodels.api as sm\n",
    "\n",
    "X = final_data1[['Price_in_thousands',\n",
    "         'Engine_size', \n",
    "         'Horsepower', \n",
    "         'Wheelbase', \n",
    "         'Width', \n",
    "         'Length',\n",
    "         'Curb_weight',\n",
    "         'Fuel_capacity',\n",
    "         'Fuel_efficiency',\n",
    "         \"dummy_vehicle\"\n",
    "        ]]\n",
    "Y = final_data1['Sales_in_thousands']\n",
    "\n",
    "X = sm.add_constant(X) # adding a constant\n",
    "\n",
    "model = sm.OLS(Y, X).fit()\n",
    "#predictions = model.predict(X) \n",
    "\n",
    "\n",
    "print(model.summary())"
   ]
  },
  {
   "cell_type": "code",
   "execution_count": 44,
   "metadata": {},
   "outputs": [
    {
     "name": "stderr",
     "output_type": "stream",
     "text": [
      "C:\\ProgramData\\Anaconda3\\lib\\site-packages\\ipykernel_launcher.py:1: SettingWithCopyWarning: \n",
      "A value is trying to be set on a copy of a slice from a DataFrame.\n",
      "Try using .loc[row_indexer,col_indexer] = value instead\n",
      "\n",
      "See the caveats in the documentation: http://pandas.pydata.org/pandas-docs/stable/user_guide/indexing.html#returning-a-view-versus-a-copy\n",
      "  \"\"\"Entry point for launching an IPython kernel.\n"
     ]
    },
    {
     "data": {
      "image/png": "[encoded data removed]",
      "text/plain": [
       "<Figure size 432x288 with 1 Axes>"
      ]
     },
     "metadata": {
      "needs_background": "light"
     },
     "output_type": "display_data"
    }
   ],
   "source": [
    "final_data1[\"sqrt_sale\"]=np.sqrt(final_data1[\"Sales_in_thousands\"])\n",
    "plt.hist(final_data1[\"sqrt_sale\"])\n",
    "plt.show()"
   ]
  },
  {
   "cell_type": "code",
   "execution_count": 45,
   "metadata": {},
   "outputs": [
    {
     "data": {
      "image/png": "[encoded data removed]",
      "text/plain": [
       "<Figure size 432x288 with 1 Axes>"
      ]
     },
     "metadata": {
      "needs_background": "light"
     },
     "output_type": "display_data"
    }
   ],
   "source": [
    "#final_data1[\"sqrt_sale\"]=np.sqrt(final_data1[\"Sales_in_thousands\"])\n",
    "plt.hist(final_data1[\"Sales_in_thousands\"])\n",
    "plt.show()"
   ]
  },
  {
   "cell_type": "code",
   "execution_count": 46,
   "metadata": {},
   "outputs": [
    {
     "name": "stdout",
     "output_type": "stream",
     "text": [
      "                            OLS Regression Results                            \n",
      "==============================================================================\n",
      "Dep. Variable:              sqrt_sale   R-squared:                       0.418\n",
      "Model:                            OLS   Adj. R-squared:                  0.377\n",
      "Method:                 Least Squares   F-statistic:                     10.13\n",
      "Date:                Sun, 22 Dec 2019   Prob (F-statistic):           1.03e-12\n",
      "Time:                        12:56:03   Log-Likelihood:                -367.78\n",
      "No. Observations:                 152   AIC:                             757.6\n",
      "Df Residuals:                     141   BIC:                             790.8\n",
      "Df Model:                          10                                         \n",
      "Covariance Type:            nonrobust                                         \n",
      "======================================================================================\n",
      "                         coef    std err          t      P>|t|      [0.025      0.975]\n",
      "--------------------------------------------------------------------------------------\n",
      "const                -13.0353      8.039     -1.621      0.107     -28.928       2.858\n",
      "Price_in_thousands    -0.0635      0.038     -1.658      0.100      -0.139       0.012\n",
      "Engine_size            1.8740      0.573      3.271      0.001       0.741       3.007\n",
      "Horsepower            -0.0198      0.013     -1.584      0.115      -0.045       0.005\n",
      "Wheelbase              0.1114      0.068      1.638      0.104      -0.023       0.246\n",
      "Width                  0.0037      0.117      0.032      0.975      -0.227       0.235\n",
      "Length                 0.0473      0.041      1.151      0.252      -0.034       0.128\n",
      "Curb_weight           -2.0436      1.025     -1.994      0.048      -4.069      -0.018\n",
      "Fuel_capacity         -0.0474      0.141     -0.337      0.737      -0.325       0.230\n",
      "Fuel_efficiency        0.2061      0.133      1.554      0.122      -0.056       0.468\n",
      "dummy_vehicle          2.7973      0.961      2.911      0.004       0.898       4.697\n",
      "==============================================================================\n",
      "Omnibus:                       15.764   Durbin-Watson:                   1.361\n",
      "Prob(Omnibus):                  0.000   Jarque-Bera (JB):               18.525\n",
      "Skew:                           0.688   Prob(JB):                     9.49e-05\n",
      "Kurtosis:                       4.016   Cond. No.                     1.05e+04\n",
      "==============================================================================\n",
      "\n",
      "Warnings:\n",
      "[1] Standard Errors assume that the covariance matrix of the errors is correctly specified.\n",
      "[2] The condition number is large, 1.05e+04. This might indicate that there are\n",
      "strong multicollinearity or other numerical problems.\n"
     ]
    },
    {
     "name": "stderr",
     "output_type": "stream",
     "text": [
      "C:\\ProgramData\\Anaconda3\\lib\\site-packages\\numpy\\core\\fromnumeric.py:2389: FutureWarning: Method .ptp is deprecated and will be removed in a future version. Use numpy.ptp instead.\n",
      "  return ptp(axis=axis, out=out, **kwargs)\n"
     ]
    }
   ],
   "source": [
    "import statsmodels.api as sm\n",
    "\n",
    "X = final_data1[['Price_in_thousands',\n",
    "         'Engine_size', \n",
    "         'Horsepower', \n",
    "         'Wheelbase', \n",
    "         'Width', \n",
    "         'Length',\n",
    "         'Curb_weight',\n",
    "         'Fuel_capacity',\n",
    "         'Fuel_efficiency',\n",
    "         \"dummy_vehicle\"\n",
    "        ]]\n",
    "Y = final_data1['sqrt_sale']\n",
    "\n",
    "X = sm.add_constant(X) # adding a constant\n",
    "\n",
    "model = sm.OLS(Y, X).fit()\n",
    "#predictions = model.predict(X) \n",
    "\n",
    "\n",
    "print(model.summary())"
   ]
  },
  {
   "cell_type": "code",
   "execution_count": 47,
   "metadata": {},
   "outputs": [
    {
     "name": "stderr",
     "output_type": "stream",
     "text": [
      "C:\\ProgramData\\Anaconda3\\lib\\site-packages\\ipykernel_launcher.py:1: SettingWithCopyWarning: \n",
      "A value is trying to be set on a copy of a slice from a DataFrame.\n",
      "Try using .loc[row_indexer,col_indexer] = value instead\n",
      "\n",
      "See the caveats in the documentation: http://pandas.pydata.org/pandas-docs/stable/user_guide/indexing.html#returning-a-view-versus-a-copy\n",
      "  \"\"\"Entry point for launching an IPython kernel.\n"
     ]
    },
    {
     "data": {
      "image/png": "[encoded data removed]",
      "text/plain": [
       "<Figure size 432x288 with 1 Axes>"
      ]
     },
     "metadata": {
      "needs_background": "light"
     },
     "output_type": "display_data"
    }
   ],
   "source": [
    "final_data1[\"log_sale\"]=np.log(final_data1[\"Sales_in_thousands\"])\n",
    "plt.hist(final_data1[\"log_sale\"])\n",
    "plt.show()"
   ]
  },
  {
   "cell_type": "code",
   "execution_count": 51,
   "metadata": {},
   "outputs": [
    {
     "name": "stdout",
     "output_type": "stream",
     "text": [
      "                            OLS Regression Results                            \n",
      "==============================================================================\n",
      "Dep. Variable:               log_sale   R-squared:                       0.515\n",
      "Model:                            OLS   Adj. R-squared:                  0.480\n",
      "Method:                 Least Squares   F-statistic:                     14.95\n",
      "Date:                Sun, 22 Dec 2019   Prob (F-statistic):           6.45e-18\n",
      "Time:                        13:18:11   Log-Likelihood:                -197.06\n",
      "No. Observations:                 152   AIC:                             416.1\n",
      "Df Residuals:                     141   BIC:                             449.4\n",
      "Df Model:                          10                                         \n",
      "Covariance Type:            nonrobust                                         \n",
      "======================================================================================\n",
      "                         coef    std err          t      P>|t|      [0.025      0.975]\n",
      "--------------------------------------------------------------------------------------\n",
      "const                 -3.0760      2.615     -1.176      0.241      -8.245       2.093\n",
      "Price_in_thousands    -0.0491      0.012     -3.944      0.000      -0.074      -0.025\n",
      "Engine_size            0.4674      0.186      2.508      0.013       0.099       0.836\n",
      "Horsepower            -0.0021      0.004     -0.528      0.598      -0.010       0.006\n",
      "Wheelbase              0.0316      0.022      1.431      0.155      -0.012       0.075\n",
      "Width                 -0.0236      0.038     -0.619      0.537      -0.099       0.052\n",
      "Length                 0.0125      0.013      0.934      0.352      -0.014       0.039\n",
      "Curb_weight            0.0907      0.333      0.272      0.786      -0.568       0.750\n",
      "Fuel_capacity         -0.0286      0.046     -0.625      0.533      -0.119       0.062\n",
      "Fuel_efficiency        0.1097      0.043      2.544      0.012       0.024       0.195\n",
      "dummy_vehicle          0.8934      0.313      2.858      0.005       0.275       1.511\n",
      "==============================================================================\n",
      "Omnibus:                       18.525   Durbin-Watson:                   1.532\n",
      "Prob(Omnibus):                  0.000   Jarque-Bera (JB):               26.381\n",
      "Skew:                          -0.679   Prob(JB):                     1.87e-06\n",
      "Kurtosis:                       4.523   Cond. No.                     1.05e+04\n",
      "==============================================================================\n",
      "\n",
      "Warnings:\n",
      "[1] Standard Errors assume that the covariance matrix of the errors is correctly specified.\n",
      "[2] The condition number is large, 1.05e+04. This might indicate that there are\n",
      "strong multicollinearity or other numerical problems.\n"
     ]
    }
   ],
   "source": [
    "import statsmodels.api as sm\n",
    "\n",
    "X = final_data1[['Price_in_thousands',\n",
    "         'Engine_size', \n",
    "         'Horsepower', \n",
    "         'Wheelbase', \n",
    "         'Width', \n",
    "         'Length',\n",
    "         'Curb_weight',\n",
    "         'Fuel_capacity',\n",
    "         'Fuel_efficiency',\n",
    "         \"dummy_vehicle\"\n",
    "        ]]\n",
    "Y = final_data1['log_sale']\n",
    "\n",
    "X = sm.add_constant(X) # adding a constant\n",
    "\n",
    "model = sm.OLS(Y, X).fit()\n",
    "#predictions = model.predict(X) \n",
    "\n",
    "\n",
    "print(model.summary())"
   ]
  },
  {
   "cell_type": "code",
   "execution_count": 57,
   "metadata": {},
   "outputs": [
    {
     "name": "stdout",
     "output_type": "stream",
     "text": [
      "                            OLS Regression Results                            \n",
      "==============================================================================\n",
      "Dep. Variable:               log_sale   R-squared:                       0.508\n",
      "Model:                            OLS   Adj. R-squared:                  0.492\n",
      "Method:                 Least Squares   F-statistic:                     30.21\n",
      "Date:                Sun, 22 Dec 2019   Prob (F-statistic):           5.40e-21\n",
      "Time:                        13:39:41   Log-Likelihood:                -198.02\n",
      "No. Observations:                 152   AIC:                             408.0\n",
      "Df Residuals:                     146   BIC:                             426.2\n",
      "Df Model:                           5                                         \n",
      "Covariance Type:            nonrobust                                         \n",
      "======================================================================================\n",
      "                         coef    std err          t      P>|t|      [0.025      0.975]\n",
      "--------------------------------------------------------------------------------------\n",
      "const                 -3.9575      1.834     -2.158      0.033      -7.582      -0.333\n",
      "Price_in_thousands    -0.0553      0.008     -7.258      0.000      -0.070      -0.040\n",
      "Engine_size            0.4381      0.138      3.167      0.002       0.165       0.711\n",
      "Wheelbase              0.0408      0.012      3.270      0.001       0.016       0.066\n",
      "Fuel_efficiency        0.1193      0.039      3.086      0.002       0.043       0.196\n",
      "dummy_vehicle          0.8137      0.249      3.272      0.001       0.322       1.305\n",
      "==============================================================================\n",
      "Omnibus:                       15.372   Durbin-Watson:                   1.535\n",
      "Prob(Omnibus):                  0.000   Jarque-Bera (JB):               19.406\n",
      "Skew:                          -0.629   Prob(JB):                     6.11e-05\n",
      "Kurtosis:                       4.217   Cond. No.                     2.83e+03\n",
      "==============================================================================\n",
      "\n",
      "Warnings:\n",
      "[1] Standard Errors assume that the covariance matrix of the errors is correctly specified.\n",
      "[2] The condition number is large, 2.83e+03. This might indicate that there are\n",
      "strong multicollinearity or other numerical problems.\n"
     ]
    }
   ],
   "source": [
    "import statsmodels.api as sm\n",
    "\n",
    "X = final_data1[['Price_in_thousands',\n",
    "         'Engine_size', \n",
    "         #'Horsepower', \n",
    "         'Wheelbase', \n",
    "         #'Width', \n",
    "         #'Length',\n",
    "         #'Curb_weight',\n",
    "         #'Fuel_capacity',\n",
    "         'Fuel_efficiency',\n",
    "         \"dummy_vehicle\"\n",
    "        ]]\n",
    "Y = final_data1['log_sale']\n",
    "X = sm.add_constant(X) # adding a constant\n",
    "\n",
    "model = sm.OLS(Y, X).fit()\n",
    "#predictions = model.predict(X) \n",
    "\n",
    "\n",
    "print(model.summary())"
   ]
  },
  {
   "cell_type": "code",
   "execution_count": 60,
   "metadata": {},
   "outputs": [
    {
     "name": "stderr",
     "output_type": "stream",
     "text": [
      "C:\\ProgramData\\Anaconda3\\lib\\site-packages\\ipykernel_launcher.py:1: SettingWithCopyWarning: \n",
      "A value is trying to be set on a copy of a slice from a DataFrame.\n",
      "Try using .loc[row_indexer,col_indexer] = value instead\n",
      "\n",
      "See the caveats in the documentation: http://pandas.pydata.org/pandas-docs/stable/user_guide/indexing.html#returning-a-view-versus-a-copy\n",
      "  \"\"\"Entry point for launching an IPython kernel.\n"
     ]
    }
   ],
   "source": [
    "final_data1[\"Predicted\"]=np.exp(model.predict(X))"
   ]
  },
  {
   "cell_type": "code",
   "execution_count": 62,
   "metadata": {},
   "outputs": [],
   "source": [
    "final_data1.to_csv(\"final.csv\")"
   ]
  },
  {
   "cell_type": "code",
   "execution_count": 64,
   "metadata": {},
   "outputs": [],
   "source": [
    "from sklearn.model_selection import train_test_split"
   ]
  },
  {
   "cell_type": "code",
   "execution_count": 65,
   "metadata": {},
   "outputs": [],
   "source": [
    "from sklearn.linear_model import LinearRegression"
   ]
  },
  {
   "cell_type": "code",
   "execution_count": 96,
   "metadata": {},
   "outputs": [],
   "source": [
    "X = final_data1[['Price_in_thousands',\n",
    "         'Engine_size', \n",
    "         'Horsepower', \n",
    "         'Wheelbase', \n",
    "         'Width', \n",
    "         'Length',\n",
    "         'Curb_weight',\n",
    "         'Fuel_capacity',\n",
    "         'Fuel_efficiency',\n",
    "         \"dummy_vehicle\"\n",
    "        ]]\n",
    "Y = final_data1['log_sale']"
   ]
  },
  {
   "cell_type": "code",
   "execution_count": 97,
   "metadata": {},
   "outputs": [],
   "source": [
    "xTrain, xTest, yTrain, yTest = train_test_split(X, Y, test_size = 1/3, random_state = 42)"
   ]
  },
  {
   "cell_type": "code",
   "execution_count": 71,
   "metadata": {},
   "outputs": [
    {
     "data": {
      "text/plain": [
       "(101,)"
      ]
     },
     "execution_count": 71,
     "metadata": {},
     "output_type": "execute_result"
    }
   ],
   "source": [
    "yTrain.shape"
   ]
  },
  {
   "cell_type": "code",
   "execution_count": 94,
   "metadata": {},
   "outputs": [],
   "source": [
    "linearRegressor = LinearRegression()"
   ]
  },
  {
   "cell_type": "code",
   "execution_count": 98,
   "metadata": {},
   "outputs": [
    {
     "data": {
      "text/plain": [
       "LinearRegression(copy_X=True, fit_intercept=True, n_jobs=None, normalize=False)"
      ]
     },
     "execution_count": 98,
     "metadata": {},
     "output_type": "execute_result"
    }
   ],
   "source": [
    "linearRegressor.fit(xTrain, yTrain)"
   ]
  },
  {
   "cell_type": "code",
   "execution_count": 99,
   "metadata": {},
   "outputs": [
    {
     "data": {
      "text/html": [
       "<div>\n",
       "<style scoped>\n",
       "    .dataframe tbody tr th:only-of-type {\n",
       "        vertical-align: middle;\n",
       "    }\n",
       "\n",
       "    .dataframe tbody tr th {\n",
       "        vertical-align: top;\n",
       "    }\n",
       "\n",
       "    .dataframe thead th {\n",
       "        text-align: right;\n",
       "    }\n",
       "</style>\n",
       "<table border=\"1\" class=\"dataframe\">\n",
       "  <thead>\n",
       "    <tr style=\"text-align: right;\">\n",
       "      <th></th>\n",
       "      <th>0</th>\n",
       "    </tr>\n",
       "  </thead>\n",
       "  <tbody>\n",
       "    <tr>\n",
       "      <td>0</td>\n",
       "      <td>3.062672</td>\n",
       "    </tr>\n",
       "    <tr>\n",
       "      <td>1</td>\n",
       "      <td>4.112459</td>\n",
       "    </tr>\n",
       "    <tr>\n",
       "      <td>2</td>\n",
       "      <td>2.739970</td>\n",
       "    </tr>\n",
       "    <tr>\n",
       "      <td>3</td>\n",
       "      <td>4.302084</td>\n",
       "    </tr>\n",
       "    <tr>\n",
       "      <td>4</td>\n",
       "      <td>3.958504</td>\n",
       "    </tr>\n",
       "    <tr>\n",
       "      <td>...</td>\n",
       "      <td>...</td>\n",
       "    </tr>\n",
       "    <tr>\n",
       "      <td>96</td>\n",
       "      <td>3.030162</td>\n",
       "    </tr>\n",
       "    <tr>\n",
       "      <td>97</td>\n",
       "      <td>3.186256</td>\n",
       "    </tr>\n",
       "    <tr>\n",
       "      <td>98</td>\n",
       "      <td>2.831963</td>\n",
       "    </tr>\n",
       "    <tr>\n",
       "      <td>99</td>\n",
       "      <td>1.980204</td>\n",
       "    </tr>\n",
       "    <tr>\n",
       "      <td>100</td>\n",
       "      <td>3.418364</td>\n",
       "    </tr>\n",
       "  </tbody>\n",
       "</table>\n",
       "<p>101 rows × 1 columns</p>\n",
       "</div>"
      ],
      "text/plain": [
       "            0\n",
       "0    3.062672\n",
       "1    4.112459\n",
       "2    2.739970\n",
       "3    4.302084\n",
       "4    3.958504\n",
       "..        ...\n",
       "96   3.030162\n",
       "97   3.186256\n",
       "98   2.831963\n",
       "99   1.980204\n",
       "100  3.418364\n",
       "\n",
       "[101 rows x 1 columns]"
      ]
     },
     "execution_count": 99,
     "metadata": {},
     "output_type": "execute_result"
    }
   ],
   "source": [
    "pd.DataFrame(linearRegressor.predict(xTrain))"
   ]
  },
  {
   "cell_type": "code",
   "execution_count": 78,
   "metadata": {},
   "outputs": [
    {
     "data": {
      "text/plain": [
       "80     3.750468\n",
       "136    4.959588\n",
       "70     3.181049\n",
       "116    3.184491\n",
       "114    3.488414\n",
       "         ...   \n",
       "75     3.936481\n",
       "111    2.687167\n",
       "16     1.877325\n",
       "96     2.079192\n",
       "106    3.991906\n",
       "Name: log_sale, Length: 101, dtype: float64"
      ]
     },
     "execution_count": 78,
     "metadata": {},
     "output_type": "execute_result"
    }
   ],
   "source": [
    "yTrain"
   ]
  },
  {
   "cell_type": "code",
   "execution_count": null,
   "metadata": {},
   "outputs": [],
   "source": []
  },
  {
   "cell_type": "code",
   "execution_count": 80,
   "metadata": {},
   "outputs": [],
   "source": [
    "yPrediction = linearRegressor.predict(xTrain)\n",
    "y_pred_anti=np.exp(yPrediction)\n",
    "y_act_anti=np.exp(yTrain)\n",
    "pred = pd.DataFrame({'Actual Sale': y_act_anti, 'Predicted sales': y_pred_anti})\n",
    "df_pred=pred.head(25)"
   ]
  },
  {
   "cell_type": "code",
   "execution_count": 81,
   "metadata": {},
   "outputs": [
    {
     "data": {
      "text/html": [
       "<div>\n",
       "<style scoped>\n",
       "    .dataframe tbody tr th:only-of-type {\n",
       "        vertical-align: middle;\n",
       "    }\n",
       "\n",
       "    .dataframe tbody tr th {\n",
       "        vertical-align: top;\n",
       "    }\n",
       "\n",
       "    .dataframe thead th {\n",
       "        text-align: right;\n",
       "    }\n",
       "</style>\n",
       "<table border=\"1\" class=\"dataframe\">\n",
       "  <thead>\n",
       "    <tr style=\"text-align: right;\">\n",
       "      <th></th>\n",
       "      <th>Actual Sale</th>\n",
       "      <th>Predicted sales</th>\n",
       "    </tr>\n",
       "  </thead>\n",
       "  <tbody>\n",
       "    <tr>\n",
       "      <td>80</td>\n",
       "      <td>42.541</td>\n",
       "      <td>21.384627</td>\n",
       "    </tr>\n",
       "    <tr>\n",
       "      <td>136</td>\n",
       "      <td>142.535</td>\n",
       "      <td>61.096800</td>\n",
       "    </tr>\n",
       "    <tr>\n",
       "      <td>70</td>\n",
       "      <td>24.072</td>\n",
       "      <td>15.486515</td>\n",
       "    </tr>\n",
       "    <tr>\n",
       "      <td>116</td>\n",
       "      <td>24.155</td>\n",
       "      <td>73.853514</td>\n",
       "    </tr>\n",
       "    <tr>\n",
       "      <td>114</td>\n",
       "      <td>32.734</td>\n",
       "      <td>52.378887</td>\n",
       "    </tr>\n",
       "    <tr>\n",
       "      <td>26</td>\n",
       "      <td>21.855</td>\n",
       "      <td>51.716233</td>\n",
       "    </tr>\n",
       "    <tr>\n",
       "      <td>0</td>\n",
       "      <td>16.919</td>\n",
       "      <td>28.679525</td>\n",
       "    </tr>\n",
       "    <tr>\n",
       "      <td>82</td>\n",
       "      <td>5.711</td>\n",
       "      <td>25.173436</td>\n",
       "    </tr>\n",
       "    <tr>\n",
       "      <td>97</td>\n",
       "      <td>1.526</td>\n",
       "      <td>7.860533</td>\n",
       "    </tr>\n",
       "    <tr>\n",
       "      <td>30</td>\n",
       "      <td>31.148</td>\n",
       "      <td>45.595957</td>\n",
       "    </tr>\n",
       "    <tr>\n",
       "      <td>44</td>\n",
       "      <td>101.323</td>\n",
       "      <td>78.105778</td>\n",
       "    </tr>\n",
       "    <tr>\n",
       "      <td>48</td>\n",
       "      <td>35.068</td>\n",
       "      <td>39.424958</td>\n",
       "    </tr>\n",
       "    <tr>\n",
       "      <td>68</td>\n",
       "      <td>80.556</td>\n",
       "      <td>44.039279</td>\n",
       "    </tr>\n",
       "    <tr>\n",
       "      <td>98</td>\n",
       "      <td>11.592</td>\n",
       "      <td>18.262672</td>\n",
       "    </tr>\n",
       "    <tr>\n",
       "      <td>27</td>\n",
       "      <td>107.995</td>\n",
       "      <td>70.892932</td>\n",
       "    </tr>\n",
       "    <tr>\n",
       "      <td>25</td>\n",
       "      <td>32.299</td>\n",
       "      <td>59.266054</td>\n",
       "    </tr>\n",
       "    <tr>\n",
       "      <td>102</td>\n",
       "      <td>88.094</td>\n",
       "      <td>26.358969</td>\n",
       "    </tr>\n",
       "    <tr>\n",
       "      <td>43</td>\n",
       "      <td>111.313</td>\n",
       "      <td>168.658370</td>\n",
       "    </tr>\n",
       "    <tr>\n",
       "      <td>148</td>\n",
       "      <td>9.569</td>\n",
       "      <td>20.889824</td>\n",
       "    </tr>\n",
       "    <tr>\n",
       "      <td>149</td>\n",
       "      <td>5.596</td>\n",
       "      <td>23.767560</td>\n",
       "    </tr>\n",
       "    <tr>\n",
       "      <td>51</td>\n",
       "      <td>63.403</td>\n",
       "      <td>49.320321</td>\n",
       "    </tr>\n",
       "    <tr>\n",
       "      <td>105</td>\n",
       "      <td>42.574</td>\n",
       "      <td>27.037030</td>\n",
       "    </tr>\n",
       "    <tr>\n",
       "      <td>122</td>\n",
       "      <td>35.945</td>\n",
       "      <td>50.843779</td>\n",
       "    </tr>\n",
       "    <tr>\n",
       "      <td>77</td>\n",
       "      <td>48.911</td>\n",
       "      <td>23.222560</td>\n",
       "    </tr>\n",
       "    <tr>\n",
       "      <td>36</td>\n",
       "      <td>4.734</td>\n",
       "      <td>26.944747</td>\n",
       "    </tr>\n",
       "  </tbody>\n",
       "</table>\n",
       "</div>"
      ],
      "text/plain": [
       "     Actual Sale  Predicted sales\n",
       "80        42.541        21.384627\n",
       "136      142.535        61.096800\n",
       "70        24.072        15.486515\n",
       "116       24.155        73.853514\n",
       "114       32.734        52.378887\n",
       "26        21.855        51.716233\n",
       "0         16.919        28.679525\n",
       "82         5.711        25.173436\n",
       "97         1.526         7.860533\n",
       "30        31.148        45.595957\n",
       "44       101.323        78.105778\n",
       "48        35.068        39.424958\n",
       "68        80.556        44.039279\n",
       "98        11.592        18.262672\n",
       "27       107.995        70.892932\n",
       "25        32.299        59.266054\n",
       "102       88.094        26.358969\n",
       "43       111.313       168.658370\n",
       "148        9.569        20.889824\n",
       "149        5.596        23.767560\n",
       "51        63.403        49.320321\n",
       "105       42.574        27.037030\n",
       "122       35.945        50.843779\n",
       "77        48.911        23.222560\n",
       "36         4.734        26.944747"
      ]
     },
     "execution_count": 81,
     "metadata": {},
     "output_type": "execute_result"
    }
   ],
   "source": [
    "df_pred"
   ]
  },
  {
   "cell_type": "code",
   "execution_count": 82,
   "metadata": {},
   "outputs": [
    {
     "data": {
      "image/png": "[encoded data removed]",
      "text/plain": [
       "<Figure size 720x576 with 1 Axes>"
      ]
     },
     "metadata": {
      "needs_background": "light"
     },
     "output_type": "display_data"
    }
   ],
   "source": [
    "df_pred.plot(kind='bar',figsize=(10,8))\n",
    "plt.grid(which='major', linestyle='-', linewidth='0.5', color='green')\n",
    "plt.grid(which='minor', linestyle=':', linewidth='0.5', color='black')\n",
    "plt.show()"
   ]
  },
  {
   "cell_type": "code",
   "execution_count": 83,
   "metadata": {},
   "outputs": [
    {
     "name": "stdout",
     "output_type": "stream",
     "text": [
      "Mean Absolute Error: 31.308726110283548\n",
      "Mean Squared Error: 2610.9067803054745\n",
      "Root Mean Squared Error: 51.09703298925951\n"
     ]
    }
   ],
   "source": [
    "from sklearn import metrics\n",
    "print('Mean Absolute Error:', metrics.mean_absolute_error(y_act_anti, y_pred_anti))  \n",
    "print('Mean Squared Error:', metrics.mean_squared_error(y_act_anti, y_pred_anti))  \n",
    "print('Root Mean Squared Error:', np.sqrt(metrics.mean_squared_error(y_act_anti, y_pred_anti)))"
   ]
  },
  {
   "cell_type": "code",
   "execution_count": 85,
   "metadata": {},
   "outputs": [
    {
     "name": "stdout",
     "output_type": "stream",
     "text": [
      "0.5304571504500264 0.47828572272225156\n"
     ]
    }
   ],
   "source": [
    "SS_Residual = sum((yTrain-yPrediction)**2)\n",
    "SS_Total = sum((yTrain-np.mean(yTrain))**2)\n",
    "r_squared = 1 - (float(SS_Residual))/SS_Total\n",
    "adjusted_r_squared = 1 - (1-r_squared)*(len(yTrain)-1)/(len(yTrain)-xTrain.shape[1]-1)\n",
    "print (r_squared, adjusted_r_squared)"
   ]
  },
  {
   "cell_type": "code",
   "execution_count": 86,
   "metadata": {},
   "outputs": [],
   "source": [
    "from sklearn.metrics import mean_squared_error, r2_score\n",
    "rmse = mean_squared_error(yTrain, yPrediction)\n",
    "r2 = r2_score(yTrain, yPrediction)"
   ]
  },
  {
   "cell_type": "code",
   "execution_count": 87,
   "metadata": {},
   "outputs": [
    {
     "data": {
      "text/plain": [
       "0.5304571504500265"
      ]
     },
     "execution_count": 87,
     "metadata": {},
     "output_type": "execute_result"
    }
   ],
   "source": [
    "r2"
   ]
  },
  {
   "cell_type": "code",
   "execution_count": 88,
   "metadata": {},
   "outputs": [
    {
     "data": {
      "text/html": [
       "<div>\n",
       "<style scoped>\n",
       "    .dataframe tbody tr th:only-of-type {\n",
       "        vertical-align: middle;\n",
       "    }\n",
       "\n",
       "    .dataframe tbody tr th {\n",
       "        vertical-align: top;\n",
       "    }\n",
       "\n",
       "    .dataframe thead th {\n",
       "        text-align: right;\n",
       "    }\n",
       "</style>\n",
       "<table border=\"1\" class=\"dataframe\">\n",
       "  <thead>\n",
       "    <tr style=\"text-align: right;\">\n",
       "      <th></th>\n",
       "      <th>Actual Sale</th>\n",
       "      <th>Predicted sales</th>\n",
       "    </tr>\n",
       "  </thead>\n",
       "  <tbody>\n",
       "    <tr>\n",
       "      <td>72</td>\n",
       "      <td>3.334</td>\n",
       "      <td>11.078119</td>\n",
       "    </tr>\n",
       "    <tr>\n",
       "      <td>152</td>\n",
       "      <td>3.545</td>\n",
       "      <td>16.043157</td>\n",
       "    </tr>\n",
       "    <tr>\n",
       "      <td>100</td>\n",
       "      <td>28.976</td>\n",
       "      <td>29.284663</td>\n",
       "    </tr>\n",
       "    <tr>\n",
       "      <td>86</td>\n",
       "      <td>14.351</td>\n",
       "      <td>50.424842</td>\n",
       "    </tr>\n",
       "    <tr>\n",
       "      <td>140</td>\n",
       "      <td>84.087</td>\n",
       "      <td>79.723090</td>\n",
       "    </tr>\n",
       "    <tr>\n",
       "      <td>144</td>\n",
       "      <td>9.835</td>\n",
       "      <td>11.244357</td>\n",
       "    </tr>\n",
       "    <tr>\n",
       "      <td>28</td>\n",
       "      <td>7.854</td>\n",
       "      <td>25.517106</td>\n",
       "    </tr>\n",
       "    <tr>\n",
       "      <td>13</td>\n",
       "      <td>83.257</td>\n",
       "      <td>46.092459</td>\n",
       "    </tr>\n",
       "    <tr>\n",
       "      <td>20</td>\n",
       "      <td>135.126</td>\n",
       "      <td>52.667267</td>\n",
       "    </tr>\n",
       "    <tr>\n",
       "      <td>17</td>\n",
       "      <td>11.185</td>\n",
       "      <td>16.794333</td>\n",
       "    </tr>\n",
       "    <tr>\n",
       "      <td>139</td>\n",
       "      <td>33.269</td>\n",
       "      <td>50.254955</td>\n",
       "    </tr>\n",
       "    <tr>\n",
       "      <td>133</td>\n",
       "      <td>49.989</td>\n",
       "      <td>60.604643</td>\n",
       "    </tr>\n",
       "    <tr>\n",
       "      <td>113</td>\n",
       "      <td>24.361</td>\n",
       "      <td>99.506644</td>\n",
       "    </tr>\n",
       "    <tr>\n",
       "      <td>21</td>\n",
       "      <td>24.629</td>\n",
       "      <td>42.881452</td>\n",
       "    </tr>\n",
       "    <tr>\n",
       "      <td>73</td>\n",
       "      <td>6.375</td>\n",
       "      <td>9.269781</td>\n",
       "    </tr>\n",
       "    <tr>\n",
       "      <td>10</td>\n",
       "      <td>91.561</td>\n",
       "      <td>39.246100</td>\n",
       "    </tr>\n",
       "    <tr>\n",
       "      <td>69</td>\n",
       "      <td>157.040</td>\n",
       "      <td>37.197132</td>\n",
       "    </tr>\n",
       "    <tr>\n",
       "      <td>32</td>\n",
       "      <td>13.462</td>\n",
       "      <td>31.436324</td>\n",
       "    </tr>\n",
       "    <tr>\n",
       "      <td>131</td>\n",
       "      <td>5.223</td>\n",
       "      <td>68.709816</td>\n",
       "    </tr>\n",
       "    <tr>\n",
       "      <td>120</td>\n",
       "      <td>19.911</td>\n",
       "      <td>25.685166</td>\n",
       "    </tr>\n",
       "    <tr>\n",
       "      <td>118</td>\n",
       "      <td>51.645</td>\n",
       "      <td>35.436249</td>\n",
       "    </tr>\n",
       "    <tr>\n",
       "      <td>34</td>\n",
       "      <td>30.696</td>\n",
       "      <td>29.639252</td>\n",
       "    </tr>\n",
       "    <tr>\n",
       "      <td>60</td>\n",
       "      <td>12.855</td>\n",
       "      <td>29.247093</td>\n",
       "    </tr>\n",
       "    <tr>\n",
       "      <td>71</td>\n",
       "      <td>12.698</td>\n",
       "      <td>14.958114</td>\n",
       "    </tr>\n",
       "    <tr>\n",
       "      <td>64</td>\n",
       "      <td>29.450</td>\n",
       "      <td>36.335948</td>\n",
       "    </tr>\n",
       "  </tbody>\n",
       "</table>\n",
       "</div>"
      ],
      "text/plain": [
       "     Actual Sale  Predicted sales\n",
       "72         3.334        11.078119\n",
       "152        3.545        16.043157\n",
       "100       28.976        29.284663\n",
       "86        14.351        50.424842\n",
       "140       84.087        79.723090\n",
       "144        9.835        11.244357\n",
       "28         7.854        25.517106\n",
       "13        83.257        46.092459\n",
       "20       135.126        52.667267\n",
       "17        11.185        16.794333\n",
       "139       33.269        50.254955\n",
       "133       49.989        60.604643\n",
       "113       24.361        99.506644\n",
       "21        24.629        42.881452\n",
       "73         6.375         9.269781\n",
       "10        91.561        39.246100\n",
       "69       157.040        37.197132\n",
       "32        13.462        31.436324\n",
       "131        5.223        68.709816\n",
       "120       19.911        25.685166\n",
       "118       51.645        35.436249\n",
       "34        30.696        29.639252\n",
       "60        12.855        29.247093\n",
       "71        12.698        14.958114\n",
       "64        29.450        36.335948"
      ]
     },
     "execution_count": 88,
     "metadata": {},
     "output_type": "execute_result"
    }
   ],
   "source": [
    "yPrediction = linearRegressor.predict(xTest)\n",
    "y_pred_anti=np.exp(yPrediction)\n",
    "y_act_anti=np.exp(yTest)\n",
    "pred = pd.DataFrame({'Actual Sale': y_act_anti, 'Predicted sales': y_pred_anti})\n",
    "df_pred=pred.head(25)\n",
    "df_pred"
   ]
  },
  {
   "cell_type": "code",
   "execution_count": 89,
   "metadata": {},
   "outputs": [
    {
     "data": {
      "image/png": "[encoded data removed]",
      "text/plain": [
       "<Figure size 720x576 with 1 Axes>"
      ]
     },
     "metadata": {
      "needs_background": "light"
     },
     "output_type": "display_data"
    }
   ],
   "source": [
    "df_pred.plot(kind='bar',figsize=(10,8))\n",
    "plt.grid(which='major', linestyle='-', linewidth='0.5', color='green')\n",
    "plt.grid(which='minor', linestyle=':', linewidth='0.5', color='black')\n",
    "plt.show()"
   ]
  },
  {
   "cell_type": "code",
   "execution_count": 90,
   "metadata": {},
   "outputs": [
    {
     "name": "stdout",
     "output_type": "stream",
     "text": [
      "Mean Absolute Error: 27.46599198213831\n",
      "Mean Squared Error: 2042.8114694731944\n",
      "Root Mean Squared Error: 45.19747193674879\n"
     ]
    }
   ],
   "source": [
    "from sklearn import metrics\n",
    "print('Mean Absolute Error:', metrics.mean_absolute_error(y_act_anti, y_pred_anti))  \n",
    "print('Mean Squared Error:', metrics.mean_squared_error(y_act_anti, y_pred_anti))  \n",
    "print('Root Mean Squared Error:', np.sqrt(metrics.mean_squared_error(y_act_anti, y_pred_anti)))"
   ]
  },
  {
   "cell_type": "code",
   "execution_count": 91,
   "metadata": {},
   "outputs": [
    {
     "name": "stdout",
     "output_type": "stream",
     "text": [
      "0.41689025137688285 0.27111281422110356\n"
     ]
    }
   ],
   "source": [
    "SS_Residual = sum((yTest-yPrediction)**2)\n",
    "SS_Total = sum((yTest-np.mean(yTest))**2)\n",
    "r_squared = 1 - (float(SS_Residual))/SS_Total\n",
    "adjusted_r_squared = 1 - (1-r_squared)*(len(yTest)-1)/(len(yTest)-xTest.shape[1]-1)\n",
    "print (r_squared, adjusted_r_squared)"
   ]
  },
  {
   "cell_type": "code",
   "execution_count": 100,
   "metadata": {},
   "outputs": [],
   "source": [
    "import random as rm"
   ]
  },
  {
   "cell_type": "code",
   "execution_count": 106,
   "metadata": {},
   "outputs": [
    {
     "data": {
      "text/plain": [
       "'1'"
      ]
     },
     "execution_count": 106,
     "metadata": {},
     "output_type": "execute_result"
    }
   ],
   "source": [
    "rm.choice(['4','2','6','1','5','3'])"
   ]
  },
  {
   "cell_type": "code",
   "execution_count": 1,
   "metadata": {},
   "outputs": [
    {
     "data": {
      "text/plain": [
       "6"
      ]
     },
     "execution_count": 1,
     "metadata": {},
     "output_type": "execute_result"
    }
   ],
   "source": [
    "2+4"
   ]
  },
  {
   "cell_type": "code",
   "execution_count": null,
   "metadata": {},
   "outputs": [],
   "source": [
    "pd"
   ]
  }
 ],
 "metadata": {
  "kernelspec": {
   "display_name": "Python 3",
   "language": "python",
   "name": "python3"
  },
  "language_info": {
   "codemirror_mode": {
    "name": "ipython",
    "version": 3
   },
   "file_extension": ".py",
   "mimetype": "text/x-python",
   "name": "python",
   "nbconvert_exporter": "python",
   "pygments_lexer": "ipython3",
   "version": "3.7.4"
  }
 },
 "nbformat": 4,
 "nbformat_minor": 2
}
